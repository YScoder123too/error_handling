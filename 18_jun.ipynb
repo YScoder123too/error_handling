{
 "cells": [
  {
   "cell_type": "markdown",
   "id": "9a26629d-a3c1-410c-86b5-464dc40db06b",
   "metadata": {},
   "source": [
    "# SET"
   ]
  },
  {
   "cell_type": "code",
   "execution_count": 12,
   "id": "36f1b84d-ca39-4714-b41e-188e5bd6927d",
   "metadata": {},
   "outputs": [],
   "source": [
    "\"\"\"set is used to store mutiple data items in a single variable.The items stored in  set are unordered,unindexed and unchangable \n",
    "but we can add and remove the data items\"\"\"\n",
    "#creating a set\n",
    "set1={'tcs','Wipro','ibm','satyam','black rock','flip card','Wipro','Zara'}#check its behaviour"
   ]
  },
  {
   "cell_type": "code",
   "execution_count": 3,
   "id": "eb9a0781-b44d-483e-afd3-7cd603f92683",
   "metadata": {},
   "outputs": [
    {
     "data": {
      "text/plain": [
       "{'Wipro', 'Zara', 'black rock', 'flip card', 'ibm', 'satyam', 'tcs'}"
      ]
     },
     "execution_count": 3,
     "metadata": {},
     "output_type": "execute_result"
    }
   ],
   "source": [
    "set1"
   ]
  },
  {
   "cell_type": "code",
   "execution_count": 4,
   "id": "9e5a6578-3499-4136-a94b-033b3cd02507",
   "metadata": {},
   "outputs": [
    {
     "ename": "TypeError",
     "evalue": "'set' object does not support item assignment",
     "output_type": "error",
     "traceback": [
      "\u001b[1;31m---------------------------------------------------------------------------\u001b[0m",
      "\u001b[1;31mTypeError\u001b[0m                                 Traceback (most recent call last)",
      "Cell \u001b[1;32mIn[4], line 1\u001b[0m\n\u001b[1;32m----> 1\u001b[0m set1[\u001b[38;5;241m0\u001b[39m]\u001b[38;5;241m=\u001b[39m\u001b[38;5;124m\"\u001b[39m\u001b[38;5;124mmicrosoft\u001b[39m\u001b[38;5;124m\"\u001b[39m\n",
      "\u001b[1;31mTypeError\u001b[0m: 'set' object does not support item assignment"
     ]
    }
   ],
   "source": [
    "set1[0]=\"microsoft\"#unchangable property"
   ]
  },
  {
   "cell_type": "code",
   "execution_count": 8,
   "id": "2cf30e6c-197b-4e8b-a7fa-e8b4c33704c8",
   "metadata": {},
   "outputs": [
    {
     "name": "stdout",
     "output_type": "stream",
     "text": [
      "{'ibm', 'flip card', 'Zara', 'Wipro', 'tcs', 'satyam', 'black rock'}\n"
     ]
    }
   ],
   "source": [
    "print(set1)"
   ]
  },
  {
   "cell_type": "code",
   "execution_count": 10,
   "id": "795959d1-4be3-4d96-87d6-c4426a984ee0",
   "metadata": {},
   "outputs": [
    {
     "data": {
      "text/plain": [
       "set"
      ]
     },
     "execution_count": 10,
     "metadata": {},
     "output_type": "execute_result"
    }
   ],
   "source": [
    "type(set1)#set ka name bhi change kar sakte hai"
   ]
  },
  {
   "cell_type": "code",
   "execution_count": 26,
   "id": "940b2379-4108-4537-ab58-733bcb212515",
   "metadata": {},
   "outputs": [],
   "source": [
    "t_c=set(('tcs','Wipro','ibm','satyam','black rock','flip card','Wipro','Zara'))#this is set constructor"
   ]
  },
  {
   "cell_type": "code",
   "execution_count": 18,
   "id": "98177505-a147-45ee-9f37-8d124eb39fc3",
   "metadata": {},
   "outputs": [
    {
     "data": {
      "text/plain": [
       "{'Wipro', 'Zara', 'black rock', 'flip card', 'ibm', 'satyam', 'tcs'}"
      ]
     },
     "execution_count": 18,
     "metadata": {},
     "output_type": "execute_result"
    }
   ],
   "source": [
    "t_c"
   ]
  },
  {
   "cell_type": "code",
   "execution_count": 20,
   "id": "cf497403-4974-4144-8c1c-8ef49198de7b",
   "metadata": {},
   "outputs": [
    {
     "name": "stdout",
     "output_type": "stream",
     "text": [
      "{'ibm', 'flip card', 'black rock', 'Zara', 'Wipro', 'tcs', 'satyam'}\n"
     ]
    }
   ],
   "source": [
    "print(t_c)"
   ]
  },
  {
   "cell_type": "code",
   "execution_count": 28,
   "id": "a0b5bc7a-2ef4-452c-8917-a3f8a63cad7c",
   "metadata": {},
   "outputs": [
    {
     "data": {
      "text/plain": [
       "set"
      ]
     },
     "execution_count": 28,
     "metadata": {},
     "output_type": "execute_result"
    }
   ],
   "source": [
    "type(t_c)"
   ]
  },
  {
   "cell_type": "code",
   "execution_count": 32,
   "id": "e59ceacd-8387-4d42-aa79-d97a9396f13e",
   "metadata": {},
   "outputs": [],
   "source": [
    "#adding data items\n",
    "t_c.add(\"google\")"
   ]
  },
  {
   "cell_type": "code",
   "execution_count": 34,
   "id": "1f0fddc3-56b7-4dfe-a501-4b1e2d22d9f3",
   "metadata": {},
   "outputs": [
    {
     "data": {
      "text/plain": [
       "{'Wipro', 'Zara', 'black rock', 'flip card', 'google', 'ibm', 'satyam', 'tcs'}"
      ]
     },
     "execution_count": 34,
     "metadata": {},
     "output_type": "execute_result"
    }
   ],
   "source": [
    "t_c"
   ]
  },
  {
   "cell_type": "code",
   "execution_count": 40,
   "id": "82ce2115-af4e-4ce5-b870-24f0e90f21a3",
   "metadata": {},
   "outputs": [
    {
     "ename": "TypeError",
     "evalue": "set.add() takes exactly one argument (2 given)",
     "output_type": "error",
     "traceback": [
      "\u001b[1;31m---------------------------------------------------------------------------\u001b[0m",
      "\u001b[1;31mTypeError\u001b[0m                                 Traceback (most recent call last)",
      "Cell \u001b[1;32mIn[40], line 1\u001b[0m\n\u001b[1;32m----> 1\u001b[0m t_c\u001b[38;5;241m.\u001b[39madd(\u001b[38;5;124m\"\u001b[39m\u001b[38;5;124mmiso\u001b[39m\u001b[38;5;124m\"\u001b[39m,\u001b[38;5;124m\"\u001b[39m\u001b[38;5;124mfacebook\u001b[39m\u001b[38;5;124m\"\u001b[39m)\n",
      "\u001b[1;31mTypeError\u001b[0m: set.add() takes exactly one argument (2 given)"
     ]
    }
   ],
   "source": [
    "t_c.add(\"miso\",\"facebook\")#we can't add more than one item"
   ]
  },
  {
   "cell_type": "code",
   "execution_count": 42,
   "id": "42101263-3121-4501-9c5f-5e60a064b928",
   "metadata": {},
   "outputs": [],
   "source": [
    "#for addition of more than one item\n",
    "rank={1,2,3,4,5}"
   ]
  },
  {
   "cell_type": "code",
   "execution_count": 44,
   "id": "5189b99c-36ba-48bc-a978-4938be722ba9",
   "metadata": {},
   "outputs": [],
   "source": [
    "t_c.update(rank)"
   ]
  },
  {
   "cell_type": "code",
   "execution_count": 52,
   "id": "d801fbf8-281c-4fb5-8e6e-4bddcd3be244",
   "metadata": {},
   "outputs": [
    {
     "name": "stdout",
     "output_type": "stream",
     "text": [
      "{'google', 1, 'ibm', 'flip card', 2, 3, 4, 5, 'black rock', 'Zara', 'Wipro', 'tcs', 'satyam'}\n"
     ]
    }
   ],
   "source": [
    "print(t_c)#random addition"
   ]
  },
  {
   "cell_type": "code",
   "execution_count": 56,
   "id": "4907ac3c-0cde-4370-bfa6-ec4de3f58342",
   "metadata": {},
   "outputs": [],
   "source": [
    "fruits={\"banana\",\"apple\"}\n",
    "seasonal_fruits={\"guava\",\"grapes\",\"mango\"}"
   ]
  },
  {
   "cell_type": "code",
   "execution_count": 58,
   "id": "5fdbe04d-f0dc-4542-b160-485861399ae7",
   "metadata": {},
   "outputs": [],
   "source": [
    "fruits.update(seasonal_fruits)"
   ]
  },
  {
   "cell_type": "code",
   "execution_count": 60,
   "id": "08d99007-018d-4d06-8777-fede04f6692b",
   "metadata": {},
   "outputs": [
    {
     "data": {
      "text/plain": [
       "{'apple', 'banana', 'grapes', 'guava', 'mango'}"
      ]
     },
     "execution_count": 60,
     "metadata": {},
     "output_type": "execute_result"
    }
   ],
   "source": [
    "fruits"
   ]
  },
  {
   "cell_type": "code",
   "execution_count": 62,
   "id": "c6acadea-b5f8-44e6-973b-88c580f954ef",
   "metadata": {},
   "outputs": [],
   "source": [
    "#removing items from set\n",
    "fruits.remove(\"grapes\")"
   ]
  },
  {
   "cell_type": "code",
   "execution_count": 64,
   "id": "6470a1f6-7819-4deb-b10e-c680a51dcc6f",
   "metadata": {},
   "outputs": [
    {
     "data": {
      "text/plain": [
       "{'apple', 'banana', 'guava', 'mango'}"
      ]
     },
     "execution_count": 64,
     "metadata": {},
     "output_type": "execute_result"
    }
   ],
   "source": [
    "fruits"
   ]
  },
  {
   "cell_type": "code",
   "execution_count": 69,
   "id": "28a474cc-6d5a-460f-88f6-9799fae1a692",
   "metadata": {},
   "outputs": [
    {
     "ename": "KeyError",
     "evalue": "'kiwi'",
     "output_type": "error",
     "traceback": [
      "\u001b[1;31m---------------------------------------------------------------------------\u001b[0m",
      "\u001b[1;31mKeyError\u001b[0m                                  Traceback (most recent call last)",
      "Cell \u001b[1;32mIn[69], line 1\u001b[0m\n\u001b[1;32m----> 1\u001b[0m fruits\u001b[38;5;241m.\u001b[39mremove(\u001b[38;5;124m\"\u001b[39m\u001b[38;5;124mkiwi\u001b[39m\u001b[38;5;124m\"\u001b[39m)\n",
      "\u001b[1;31mKeyError\u001b[0m: 'kiwi'"
     ]
    }
   ],
   "source": [
    "fruits.remove(\"kiwi\")"
   ]
  },
  {
   "cell_type": "code",
   "execution_count": 77,
   "id": "f3189849-da90-4e72-ad3b-2e1261a4ec3a",
   "metadata": {},
   "outputs": [],
   "source": [
    "#discard() is used to remove data items in list if the given data item is not present in list and it will not display any error\n",
    "#discard() vs remove()\n",
    "fruits.discard(\"kiwi\")#no error"
   ]
  },
  {
   "cell_type": "code",
   "execution_count": 79,
   "id": "213c1b7e-f5d5-445d-a233-5527d12abefc",
   "metadata": {},
   "outputs": [
    {
     "data": {
      "text/plain": [
       "{'apple', 'banana', 'guava', 'mango'}"
      ]
     },
     "execution_count": 79,
     "metadata": {},
     "output_type": "execute_result"
    }
   ],
   "source": [
    "fruits"
   ]
  },
  {
   "cell_type": "code",
   "execution_count": 81,
   "id": "f0aea114-a2b3-4df0-b3b7-464bb591dc85",
   "metadata": {},
   "outputs": [],
   "source": [
    "fruits.discard(\"apple\")"
   ]
  },
  {
   "cell_type": "code",
   "execution_count": 83,
   "id": "7a18b82e-d311-4d77-9cb7-6d9443c7cfb6",
   "metadata": {},
   "outputs": [
    {
     "data": {
      "text/plain": [
       "{'banana', 'guava', 'mango'}"
      ]
     },
     "execution_count": 83,
     "metadata": {},
     "output_type": "execute_result"
    }
   ],
   "source": [
    "fruits"
   ]
  },
  {
   "cell_type": "code",
   "execution_count": 87,
   "id": "d143e9c9-5590-4f3e-b42c-e3353ecb7d92",
   "metadata": {},
   "outputs": [],
   "source": [
    "#pop() removes any random item from the list\n",
    "drop=fruits.pop()"
   ]
  },
  {
   "cell_type": "code",
   "execution_count": 89,
   "id": "157a7399-2634-4cb7-a2a4-aa616c5472a8",
   "metadata": {},
   "outputs": [
    {
     "data": {
      "text/plain": [
       "{'banana', 'guava'}"
      ]
     },
     "execution_count": 89,
     "metadata": {},
     "output_type": "execute_result"
    }
   ],
   "source": [
    "fruits"
   ]
  },
  {
   "cell_type": "code",
   "execution_count": 91,
   "id": "d685914a-8f24-4a7a-a2ff-bfd5f296d669",
   "metadata": {},
   "outputs": [],
   "source": [
    "#clear() empties the whole set\n",
    "fruits.clear()"
   ]
  },
  {
   "cell_type": "code",
   "execution_count": 93,
   "id": "d2b1083b-0c16-4295-b249-ed028ece5741",
   "metadata": {},
   "outputs": [
    {
     "data": {
      "text/plain": [
       "set()"
      ]
     },
     "execution_count": 93,
     "metadata": {},
     "output_type": "execute_result"
    }
   ],
   "source": [
    "fruits"
   ]
  },
  {
   "cell_type": "code",
   "execution_count": 108,
   "id": "e07520ea-000f-490a-83a5-a30ae8911a5a",
   "metadata": {},
   "outputs": [
    {
     "data": {
      "text/plain": [
       "1"
      ]
     },
     "execution_count": 108,
     "metadata": {},
     "output_type": "execute_result"
    }
   ],
   "source": [
    "t_c.pop()#random removal"
   ]
  },
  {
   "cell_type": "code",
   "execution_count": 110,
   "id": "375f238e-434d-4247-bef9-3ad573142939",
   "metadata": {},
   "outputs": [
    {
     "name": "stdout",
     "output_type": "stream",
     "text": [
      "{'ibm', 'flip card', 2, 3, 4, 5, 'black rock', 'Zara', 'Wipro', 'tcs', 'satyam'}\n"
     ]
    }
   ],
   "source": [
    "print(t_c)"
   ]
  },
  {
   "cell_type": "markdown",
   "id": "05cb1821-4225-4ef8-9798-3b3aa9fe38b8",
   "metadata": {},
   "source": [
    "# Joining of sets"
   ]
  },
  {
   "cell_type": "code",
   "execution_count": 120,
   "id": "78dcafc3-7e32-46be-af95-f76f664ebcf4",
   "metadata": {},
   "outputs": [],
   "source": [
    "s1={1,2,3,4,5,6}\n",
    "s2={5,6,7,8}\n",
    "s3={8,9,10,11}"
   ]
  },
  {
   "cell_type": "code",
   "execution_count": 122,
   "id": "095ead2c-3567-4eb7-8fdd-7ba0a3603bce",
   "metadata": {},
   "outputs": [
    {
     "data": {
      "text/plain": [
       "{1, 2, 3, 4, 5, 6, 7, 8}"
      ]
     },
     "execution_count": 122,
     "metadata": {},
     "output_type": "execute_result"
    }
   ],
   "source": [
    "s1.union(s2)"
   ]
  },
  {
   "cell_type": "code",
   "execution_count": 124,
   "id": "9c028945-999b-4083-8fd8-ce75d48c8faa",
   "metadata": {},
   "outputs": [
    {
     "data": {
      "text/plain": [
       "{1, 2, 3, 4, 5, 6, 7, 8, 9, 10, 11}"
      ]
     },
     "execution_count": 124,
     "metadata": {},
     "output_type": "execute_result"
    }
   ],
   "source": [
    "s1.union(s2,s3)"
   ]
  },
  {
   "cell_type": "code",
   "execution_count": 129,
   "id": "a1bd81fb-f5cd-4a7c-949a-ed707bbe5450",
   "metadata": {},
   "outputs": [
    {
     "data": {
      "text/plain": [
       "{1, 2, 3, 4, 5, 6}"
      ]
     },
     "execution_count": 129,
     "metadata": {},
     "output_type": "execute_result"
    }
   ],
   "source": [
    "s1"
   ]
  },
  {
   "cell_type": "code",
   "execution_count": 185,
   "id": "b49cd44f-0ca6-4f9d-aeea-f4c15179b7e5",
   "metadata": {},
   "outputs": [],
   "source": [
    "set1={\"nitin\",\"prince\",\"sahil\",\"kanika\"}\n",
    "set2={\"uttam\",\"vivek\",\"jatin\",\"nitin\"}\n",
    "set3={\"kanika\",\"manvi\",\"garima\",\"vivek\",\"nitin\"}"
   ]
  },
  {
   "cell_type": "code",
   "execution_count": 203,
   "id": "28a580b1-44f1-4e46-846a-994d5324e1e7",
   "metadata": {},
   "outputs": [],
   "source": [
    "name = set1 | set2 | set3#union"
   ]
  },
  {
   "cell_type": "code",
   "execution_count": 189,
   "id": "a03f4f73-6b60-4a85-b936-e30ff52c2d98",
   "metadata": {},
   "outputs": [
    {
     "name": "stdout",
     "output_type": "stream",
     "text": [
      "{'nitin', 'vivek', 'manvi', 'kanika', 'jatin', 'garima', 'prince', 'sahil', 'uttam'}\n"
     ]
    }
   ],
   "source": [
    "print(name)"
   ]
  },
  {
   "cell_type": "code",
   "execution_count": 191,
   "id": "9e11ad28-6e29-4251-9f6c-a15bbbb07aa3",
   "metadata": {},
   "outputs": [
    {
     "data": {
      "text/plain": [
       "{'nitin'}"
      ]
     },
     "execution_count": 191,
     "metadata": {},
     "output_type": "execute_result"
    }
   ],
   "source": [
    "#intersection\n",
    "set1.intersection(set2)"
   ]
  },
  {
   "cell_type": "code",
   "execution_count": 193,
   "id": "25050182-cb74-43d5-9731-dd8d4e34b473",
   "metadata": {},
   "outputs": [
    {
     "data": {
      "text/plain": [
       "{'nitin', 'vivek'}"
      ]
     },
     "execution_count": 193,
     "metadata": {},
     "output_type": "execute_result"
    }
   ],
   "source": [
    "set2.intersection(set3)"
   ]
  },
  {
   "cell_type": "code",
   "execution_count": 199,
   "id": "49e3f35b-f945-43ee-b45a-dc7a7fd48995",
   "metadata": {},
   "outputs": [],
   "source": [
    "common_name= set1 & set2 & set3#common em all->intersection"
   ]
  },
  {
   "cell_type": "code",
   "execution_count": 205,
   "id": "9d5559b9-e583-4b4b-a55e-df8579ce8ba7",
   "metadata": {},
   "outputs": [
    {
     "name": "stdout",
     "output_type": "stream",
     "text": [
      "{'nitin'}\n"
     ]
    }
   ],
   "source": [
    "print(common_name)"
   ]
  },
  {
   "cell_type": "code",
   "execution_count": 207,
   "id": "8046475b-48b9-40f5-bae1-da2d8a2af200",
   "metadata": {},
   "outputs": [],
   "source": [
    "#difference\n",
    "dif=set1-set2"
   ]
  },
  {
   "cell_type": "code",
   "execution_count": 209,
   "id": "a2bda1d7-2d2b-42ee-86e0-31c637c3d9e8",
   "metadata": {},
   "outputs": [
    {
     "name": "stdout",
     "output_type": "stream",
     "text": [
      "{'kanika', 'prince', 'sahil'}\n"
     ]
    }
   ],
   "source": [
    "print(dif)"
   ]
  },
  {
   "cell_type": "code",
   "execution_count": 211,
   "id": "cf19b227-5f9f-4e7e-a73f-941e489eb8ba",
   "metadata": {},
   "outputs": [],
   "source": [
    "sy_dif=set1 ^ set2"
   ]
  },
  {
   "cell_type": "code",
   "execution_count": 217,
   "id": "af96a332-e302-4d23-ae63-1a2a8ace0ddf",
   "metadata": {},
   "outputs": [
    {
     "name": "stdout",
     "output_type": "stream",
     "text": [
      "{'vivek', 'kanika', 'jatin', 'prince', 'sahil', 'uttam'}\n"
     ]
    }
   ],
   "source": [
    "print(sy_dif)#symmetric difference"
   ]
  },
  {
   "cell_type": "code",
   "execution_count": null,
   "id": "16e99a99-2b34-490d-ac5a-a44a0d71b449",
   "metadata": {},
   "outputs": [],
   "source": []
  }
 ],
 "metadata": {
  "kernelspec": {
   "display_name": "Python 3 (ipykernel)",
   "language": "python",
   "name": "python3"
  },
  "language_info": {
   "codemirror_mode": {
    "name": "ipython",
    "version": 3
   },
   "file_extension": ".py",
   "mimetype": "text/x-python",
   "name": "python",
   "nbconvert_exporter": "python",
   "pygments_lexer": "ipython3",
   "version": "3.11.5"
  }
 },
 "nbformat": 4,
 "nbformat_minor": 5
}
