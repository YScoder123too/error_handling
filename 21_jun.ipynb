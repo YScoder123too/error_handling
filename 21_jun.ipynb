{
 "cells": [
  {
   "cell_type": "markdown",
   "id": "9dde7c5c-1b8b-4772-b258-fa196af1d677",
   "metadata": {},
   "source": [
    "# FILE HANDLING"
   ]
  },
  {
   "cell_type": "code",
   "execution_count": 2,
   "id": "38094f60-c3e3-4a98-9777-bc6bf35fd718",
   "metadata": {},
   "outputs": [],
   "source": [
    "#File Handling in important for any web application\n",
    "#It is used to read and write date in a file"
   ]
  },
  {
   "cell_type": "code",
   "execution_count": null,
   "id": "25592a20-b456-4906-87d1-c26b9abf4741",
   "metadata": {},
   "outputs": [],
   "source": []
  }
 ],
 "metadata": {
  "kernelspec": {
   "display_name": "Python 3 (ipykernel)",
   "language": "python",
   "name": "python3"
  },
  "language_info": {
   "codemirror_mode": {
    "name": "ipython",
    "version": 3
   },
   "file_extension": ".py",
   "mimetype": "text/x-python",
   "name": "python",
   "nbconvert_exporter": "python",
   "pygments_lexer": "ipython3",
   "version": "3.11.5"
  }
 },
 "nbformat": 4,
 "nbformat_minor": 5
}
