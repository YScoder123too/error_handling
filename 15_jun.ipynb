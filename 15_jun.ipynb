{
 "cells": [
  {
   "cell_type": "markdown",
   "id": "4a0f88f7-7f60-47bf-bf9b-31f4b54c5768",
   "metadata": {},
   "source": [
    "# Assignment_1"
   ]
  },
  {
   "cell_type": "code",
   "execution_count": null,
   "id": "ffa2fe4c-d464-4c92-8f6e-97c77dfc9be9",
   "metadata": {},
   "outputs": [],
   "source": [
    "n=int(input(\"Enter the value\"))\n",
    "for i in range(1,n+1):\n",
    "    for j in range(n-i+1):\n",
    "        print(\" \",end=\"\")#stars:2*i-1;space:,n-1\n",
    "    for k in range(1,(2*i-1)+1):\n",
    "        print(\"*\",end=\"\")\n",
    "    print()    "
   ]
  },
  {
   "cell_type": "code",
   "execution_count": null,
   "id": "9cf9af9a-6446-4bfc-9195-a6c420e79c49",
   "metadata": {},
   "outputs": [],
   "source": [
    "for x in range(10):\n",
    "    if x == 6:\n",
    "      print(x,end=\",\")\n",
    "print(x)"
   ]
  },
  {
   "cell_type": "code",
   "execution_count": null,
   "id": "d23ef14f-3837-42e0-92c9-9d4089900fee",
   "metadata": {},
   "outputs": [],
   "source": [
    "while i < 20:\n",
    " print(i)\n",
    " i += 1\n"
   ]
  },
  {
   "cell_type": "code",
   "execution_count": null,
   "id": "594204f5-cc42-4f2c-825a-d97304088120",
   "metadata": {},
   "outputs": [],
   "source": [
    "num=5\n",
    "print(\"%d is number\"%num)#gyaan"
   ]
  },
  {
   "cell_type": "markdown",
   "id": "6803d399-4a68-46ab-a214-b21326e12fb2",
   "metadata": {},
   "source": [
    "# tuple vs list"
   ]
  },
  {
   "cell_type": "code",
   "execution_count": null,
   "id": "2980e172-50bf-4139-be51-73e38443a057",
   "metadata": {},
   "outputs": [],
   "source": [
    "t=(\"mercury\",\"venus\",\"earth\",\"mars\",\"jupiter\",\"saturn\",\"uranus\",\"neptune\")#immutable;can't change it"
   ]
  },
  {
   "cell_type": "code",
   "execution_count": null,
   "id": "8a6f98a3-e2aa-49b4-8527-29a7ed9bda6c",
   "metadata": {},
   "outputs": [],
   "source": [
    "t"
   ]
  },
  {
   "cell_type": "code",
   "execution_count": null,
   "id": "839bc9ed-41d7-4746-bf89-ddd3f12aa4e2",
   "metadata": {},
   "outputs": [],
   "source": [
    "t[2]"
   ]
  },
  {
   "cell_type": "code",
   "execution_count": null,
   "id": "4ddbf1dd-b8d6-4f80-90fa-b186f123622d",
   "metadata": {},
   "outputs": [],
   "source": [
    "t[0:5]"
   ]
  },
  {
   "cell_type": "code",
   "execution_count": null,
   "id": "aefa78ea-61d0-424c-9a58-b92d54d5793f",
   "metadata": {},
   "outputs": [],
   "source": [
    "l=[\"mercury\",\"venus\",\"earth\",\"mars\",\"jupiter\",\"saturn\",\"uranus\",\"neptune\"]#its mutable"
   ]
  },
  {
   "cell_type": "code",
   "execution_count": null,
   "id": "1f6c2582-0554-4902-b11f-86df5445b79e",
   "metadata": {},
   "outputs": [],
   "source": [
    "l[0]=\"MERCURY\""
   ]
  },
  {
   "cell_type": "code",
   "execution_count": null,
   "id": "64065717-6dd0-4dbc-9c64-68876cbf0240",
   "metadata": {},
   "outputs": [],
   "source": [
    "l"
   ]
  },
  {
   "cell_type": "code",
   "execution_count": null,
   "id": "24f8c5e8-a618-436a-8f77-b363762ea2bf",
   "metadata": {},
   "outputs": [],
   "source": [
    "t1=(5)"
   ]
  },
  {
   "cell_type": "code",
   "execution_count": null,
   "id": "a12adc1b-6a5f-49c1-8e4c-9d37cc13a01b",
   "metadata": {},
   "outputs": [],
   "source": [
    "type(t1)#single element ke liye type int hai"
   ]
  },
  {
   "cell_type": "code",
   "execution_count": null,
   "id": "2c3ed9cc-d7c9-4adb-bb98-dabca6018440",
   "metadata": {},
   "outputs": [],
   "source": [
    "t2=(5,)#now this is a tuple type"
   ]
  },
  {
   "cell_type": "code",
   "execution_count": null,
   "id": "df8fdc6f-3e89-41b5-9560-07bc26e920c2",
   "metadata": {},
   "outputs": [],
   "source": [
    "type(t2)#typle type"
   ]
  },
  {
   "cell_type": "code",
   "execution_count": null,
   "id": "ebbfe72e-580e-45cb-9380-da0d74e1b8cf",
   "metadata": {},
   "outputs": [],
   "source": [
    "t1=()#empty tuple"
   ]
  },
  {
   "cell_type": "code",
   "execution_count": null,
   "id": "af57b1bd-6390-4541-aa45-f27385916584",
   "metadata": {},
   "outputs": [],
   "source": [
    "t1"
   ]
  },
  {
   "cell_type": "markdown",
   "id": "7b240e76-5358-4576-8966-c5b211aab492",
   "metadata": {},
   "source": [
    "# How to make a tuple mutable"
   ]
  },
  {
   "cell_type": "code",
   "execution_count": null,
   "id": "44a82603-d212-4e41-91d2-fd65626dddf2",
   "metadata": {},
   "outputs": [],
   "source": [
    "fruits=([\"orange\",\"Peach\"],\"mango\",\"watermelon\",\"banana\",\"strawberry\",\"lemon\")"
   ]
  },
  {
   "cell_type": "code",
   "execution_count": null,
   "id": "6654e28c-2cc3-4973-a485-e2d8651b00ae",
   "metadata": {},
   "outputs": [],
   "source": [
    "fruits"
   ]
  },
  {
   "cell_type": "code",
   "execution_count": null,
   "id": "aa9a4283-4d10-4eb8-8106-95e385edbfe3",
   "metadata": {},
   "outputs": [],
   "source": [
    "type(fruits)"
   ]
  },
  {
   "cell_type": "code",
   "execution_count": null,
   "id": "69170df7-91ce-43ea-a948-abc72671c743",
   "metadata": {},
   "outputs": [],
   "source": [
    "fruits[0][0]"
   ]
  },
  {
   "cell_type": "code",
   "execution_count": null,
   "id": "818b2a3b-2fa8-4d62-8377-4af137618942",
   "metadata": {},
   "outputs": [],
   "source": [
    "fruits[0][1]"
   ]
  },
  {
   "cell_type": "code",
   "execution_count": null,
   "id": "2ce787d1-1eda-4693-bc94-c1f0b57aed13",
   "metadata": {},
   "outputs": [],
   "source": [
    "fruits[0][0]=\"Guava\"#mutable hai par list ki jarurat hai"
   ]
  },
  {
   "cell_type": "code",
   "execution_count": null,
   "id": "085bb9db-0f4e-4632-91c4-8922d0be0299",
   "metadata": {},
   "outputs": [],
   "source": [
    "fruits"
   ]
  },
  {
   "cell_type": "code",
   "execution_count": null,
   "id": "25f3e066-dfc2-4fca-aa22-343dfe3a873c",
   "metadata": {},
   "outputs": [],
   "source": [
    "fruits[3]=\"avacado\"#tuple mai change nahi hoga"
   ]
  },
  {
   "cell_type": "code",
   "execution_count": null,
   "id": "95ad4373-782f-48d3-8e9f-299b89d22ec7",
   "metadata": {},
   "outputs": [],
   "source": [
    "fruits[2][1]"
   ]
  },
  {
   "cell_type": "code",
   "execution_count": null,
   "id": "e13b4fac-33cf-4d8f-be6b-f3c47f23482f",
   "metadata": {},
   "outputs": [],
   "source": [
    "fruits[2][3]"
   ]
  },
  {
   "cell_type": "markdown",
   "id": "e7057d8e-1a26-4d94-8d85-d8b092fb3e50",
   "metadata": {},
   "source": [
    "# unpacking of tuple"
   ]
  },
  {
   "cell_type": "code",
   "execution_count": null,
   "id": "e2ef4a71-2da5-4566-8c77-1107cb1e5756",
   "metadata": {},
   "outputs": [],
   "source": [
    "for i in fruits:\n",
    "    print(i)"
   ]
  },
  {
   "cell_type": "code",
   "execution_count": null,
   "id": "d6b9e66a-1e0e-4bb5-99f8-568f0571fac6",
   "metadata": {},
   "outputs": [],
   "source": [
    "fruits.count(\"papaya\")"
   ]
  },
  {
   "cell_type": "code",
   "execution_count": null,
   "id": "5f6a2a05-75bf-4797-8436-0dd5f6b09442",
   "metadata": {},
   "outputs": [],
   "source": [
    "fruits.index(\"Peach\")#list wali entries ka indez nahi jaan sakte"
   ]
  },
  {
   "cell_type": "code",
   "execution_count": null,
   "id": "99b86666-54f5-485f-9164-0deb4ae74689",
   "metadata": {},
   "outputs": [],
   "source": [
    "price=(120,130,140)"
   ]
  },
  {
   "cell_type": "code",
   "execution_count": null,
   "id": "fb438832-b55f-4e9c-bf8b-4336c849b462",
   "metadata": {},
   "outputs": [],
   "source": [
    "fnew=fruits+price"
   ]
  },
  {
   "cell_type": "code",
   "execution_count": null,
   "id": "edd716a1-5b8b-4a39-ad41-23b7247c72db",
   "metadata": {},
   "outputs": [],
   "source": [
    "fnew"
   ]
  },
  {
   "cell_type": "code",
   "execution_count": null,
   "id": "a7f0c203-5b8e-4bb4-9cf6-2dd6d420ac6c",
   "metadata": {},
   "outputs": [],
   "source": [
    "fnew.index(['Guava', 'Peach'])#treated as one element"
   ]
  },
  {
   "cell_type": "code",
   "execution_count": null,
   "id": "e772eca6-5573-40cf-97d9-94da72e3f33f",
   "metadata": {},
   "outputs": [],
   "source": [
    "len(fnew)"
   ]
  },
  {
   "cell_type": "markdown",
   "id": "4907ce52-187e-4ec9-b50b-d7ac467b29e4",
   "metadata": {},
   "source": [
    "# Dictionary"
   ]
  },
  {
   "cell_type": "code",
   "execution_count": null,
   "id": "07f9e271-e23d-4523-986f-e98018134995",
   "metadata": {},
   "outputs": [],
   "source": [
    "fruits={\"mango\":120,\"papaya\":80,\"orange\":100,\"melon\":40,}"
   ]
  },
  {
   "cell_type": "code",
   "execution_count": null,
   "id": "bfea7ace-c956-4a54-bd70-fd8f84b236a2",
   "metadata": {},
   "outputs": [],
   "source": [
    "fruits"
   ]
  },
  {
   "cell_type": "code",
   "execution_count": null,
   "id": "90f762f8-7e8a-4077-9a53-8d8b0f1bfc41",
   "metadata": {},
   "outputs": [],
   "source": [
    "type(fruits)"
   ]
  },
  {
   "cell_type": "code",
   "execution_count": null,
   "id": "fa848a57-7b84-468a-8a04-e3650b4ee69a",
   "metadata": {},
   "outputs": [],
   "source": [
    "#update dictionary\n",
    "fruits[\"apple\"]=140"
   ]
  },
  {
   "cell_type": "code",
   "execution_count": null,
   "id": "78da37fb-f9e1-4983-8621-fa21d10e37b7",
   "metadata": {},
   "outputs": [],
   "source": [
    "fruits"
   ]
  },
  {
   "cell_type": "code",
   "execution_count": null,
   "id": "0887ba84-f683-4be2-9312-96fedcc37e5c",
   "metadata": {},
   "outputs": [],
   "source": [
    "fruits[\"apple\"]"
   ]
  },
  {
   "cell_type": "code",
   "execution_count": null,
   "id": "acb841d0-300e-4988-9ac7-aa8a31b78a72",
   "metadata": {},
   "outputs": [],
   "source": [
    "for i in fruits:\n",
    "    print(i)#only keys are accessed"
   ]
  },
  {
   "cell_type": "code",
   "execution_count": null,
   "id": "18d7eb0d-1578-4e7b-828f-0bdaa17a63bd",
   "metadata": {},
   "outputs": [],
   "source": [
    "for i in fruits:\n",
    "    print(fruits[i])#only values are accessed"
   ]
  },
  {
   "cell_type": "code",
   "execution_count": null,
   "id": "2ed46dff-1b6a-485c-aa1b-7793a23626a0",
   "metadata": {},
   "outputs": [],
   "source": [
    "for key,value in fruits.items():\n",
    "    print(key,value)#access both key and value"
   ]
  },
  {
   "cell_type": "code",
   "execution_count": null,
   "id": "d9b42208-7fa0-4928-83d0-a7981f7c2f98",
   "metadata": {},
   "outputs": [],
   "source": [
    "fruits.keys()"
   ]
  },
  {
   "cell_type": "code",
   "execution_count": null,
   "id": "3091e82f-833d-4173-a939-061cdfae470f",
   "metadata": {},
   "outputs": [],
   "source": [
    "fruits.values()"
   ]
  },
  {
   "cell_type": "code",
   "execution_count": null,
   "id": "3043f396-6be4-4f31-878a-c5226f99064c",
   "metadata": {},
   "outputs": [],
   "source": [
    "d1={}#empty dictionary"
   ]
  },
  {
   "cell_type": "code",
   "execution_count": null,
   "id": "def79f20-dea3-4b27-8822-eff0920c1d08",
   "metadata": {},
   "outputs": [],
   "source": [
    "type(d1)"
   ]
  },
  {
   "cell_type": "code",
   "execution_count": null,
   "id": "e5bd3aee-8e01-4f3c-a8a8-e2d1a7f21d5d",
   "metadata": {},
   "outputs": [],
   "source": [
    "name=input(\"Enter your name\")\n",
    "f={}\n",
    "for i in name:\n",
    "    if i not in f:\n",
    "        f[i]=1\n",
    "    else:\n",
    "        f[i]+=1\n",
    "print(f)        "
   ]
  },
  {
   "cell_type": "code",
   "execution_count": null,
   "id": "9944ad91-e2e3-4b8e-9e47-5701a9bc6e5e",
   "metadata": {},
   "outputs": [],
   "source": []
  },
  {
   "cell_type": "code",
   "execution_count": null,
   "id": "410f5e6c-a7da-4bd9-9600-601175287a02",
   "metadata": {},
   "outputs": [],
   "source": []
  }
 ],
 "metadata": {
  "kernelspec": {
   "display_name": "Python 3 (ipykernel)",
   "language": "python",
   "name": "python3"
  },
  "language_info": {
   "codemirror_mode": {
    "name": "ipython",
    "version": 3
   },
   "file_extension": ".py",
   "mimetype": "text/x-python",
   "name": "python",
   "nbconvert_exporter": "python",
   "pygments_lexer": "ipython3",
   "version": "3.11.5"
  }
 },
 "nbformat": 4,
 "nbformat_minor": 5
}
