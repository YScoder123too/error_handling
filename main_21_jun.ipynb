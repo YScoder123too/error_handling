{
 "cells": [
  {
   "cell_type": "markdown",
   "id": "9dde7c5c-1b8b-4772-b258-fa196af1d677",
   "metadata": {},
   "source": [
    "# FILE HANDLING"
   ]
  },
  {
   "cell_type": "code",
   "execution_count": 2,
   "id": "38094f60-c3e3-4a98-9777-bc6bf35fd718",
   "metadata": {},
   "outputs": [],
   "source": [
    "#File Handling in important for any web application\n",
    "#It is used to read and write date in a file"
   ]
  },
  {
   "cell_type": "code",
   "execution_count": 4,
   "id": "25592a20-b456-4906-87d1-c26b9abf4741",
   "metadata": {},
   "outputs": [],
   "source": [
    "#Opening a file- open() function is used to open a file\n",
    "#It takes two parameters-\"name of file\" and mode"
   ]
  },
  {
   "cell_type": "code",
   "execution_count": 6,
   "id": "aa0ad8e2-4220-48fe-a801-fb8896d6b53e",
   "metadata": {},
   "outputs": [],
   "source": [
    "f=open(\"day_8.txt\",\"w\")"
   ]
  },
  {
   "cell_type": "code",
   "execution_count": 8,
   "id": "dab9e646-113b-4f4f-8cea-5797ace6822b",
   "metadata": {},
   "outputs": [
    {
     "data": {
      "text/plain": [
       "42"
      ]
     },
     "execution_count": 8,
     "metadata": {},
     "output_type": "execute_result"
    }
   ],
   "source": [
    "f.write(\"Hi! I am doing summer internship in python\")"
   ]
  },
  {
   "cell_type": "code",
   "execution_count": 10,
   "id": "5c62d624-5427-457c-8a42-520f26ce3d67",
   "metadata": {},
   "outputs": [],
   "source": [
    "f.close()"
   ]
  },
  {
   "cell_type": "code",
   "execution_count": 14,
   "id": "f1e6ec62-3fd2-4833-adb0-0de0043ba425",
   "metadata": {},
   "outputs": [
    {
     "data": {
      "text/plain": [
       "True"
      ]
     },
     "execution_count": 14,
     "metadata": {},
     "output_type": "execute_result"
    }
   ],
   "source": [
    "f.closed#To check if its closed or not"
   ]
  },
  {
   "cell_type": "code",
   "execution_count": 16,
   "id": "0a5bcd75-441d-4186-87a3-598f7e33af3a",
   "metadata": {},
   "outputs": [],
   "source": [
    "f=open(\"day_8.txt\",\"r\")"
   ]
  },
  {
   "cell_type": "code",
   "execution_count": 18,
   "id": "cb6fe2d2-9a5d-4848-a31f-6e1a2209e73c",
   "metadata": {},
   "outputs": [],
   "source": [
    "data=f.read()"
   ]
  },
  {
   "cell_type": "code",
   "execution_count": 20,
   "id": "40283d32-682a-4973-9d9d-7f2fa0ac6e6c",
   "metadata": {},
   "outputs": [
    {
     "name": "stdout",
     "output_type": "stream",
     "text": [
      "Hi! I am doing summer internship in python\n"
     ]
    }
   ],
   "source": [
    "print(data)"
   ]
  },
  {
   "cell_type": "code",
   "execution_count": 33,
   "id": "a85b89cd-9f33-4e7b-8ac0-c0ef7832d740",
   "metadata": {},
   "outputs": [
    {
     "name": "stdout",
     "output_type": "stream",
     "text": [
      "Hi! I am doing summer internship in pythonIt is awesome!\n"
     ]
    }
   ],
   "source": [
    "with open(\"day_8.txt\",\"r\") as f:#by default read mode lega agar hamne koi mode nahi likha to\n",
    "    print(f.read())#bina close kare kholne ke liye"
   ]
  },
  {
   "cell_type": "code",
   "execution_count": 35,
   "id": "7fa12c48-5d1a-49ce-9b32-35e75b3ff066",
   "metadata": {},
   "outputs": [
    {
     "data": {
      "text/plain": [
       "True"
      ]
     },
     "execution_count": 35,
     "metadata": {},
     "output_type": "execute_result"
    }
   ],
   "source": [
    "f.closed"
   ]
  },
  {
   "cell_type": "code",
   "execution_count": 37,
   "id": "bc023374-8f33-4070-a0f1-a3d48f09a67f",
   "metadata": {},
   "outputs": [],
   "source": [
    "with open(\"day_8.txt\",\"a\") as f:\n",
    "    f.write(\"It is awesome!\")"
   ]
  },
  {
   "cell_type": "code",
   "execution_count": 41,
   "id": "aedd25e1-9cee-459d-ac03-193163cff88a",
   "metadata": {},
   "outputs": [
    {
     "name": "stdout",
     "output_type": "stream",
     "text": [
      "Hi! I am doing summer internship in pythonIt is awesome!It is awesome!\n"
     ]
    }
   ],
   "source": [
    "with open(\"day_8.txt\") as f:\n",
    "    print(f.read())"
   ]
  },
  {
   "cell_type": "code",
   "execution_count": 43,
   "id": "8a086a84-35e4-4da3-ac01-e259789ad492",
   "metadata": {},
   "outputs": [],
   "source": [
    "#opening a file from a specific location"
   ]
  },
  {
   "cell_type": "code",
   "execution_count": 60,
   "id": "44f2a861-52f6-4d7d-9564-5db838c0a05b",
   "metadata": {},
   "outputs": [
    {
     "name": "stdout",
     "output_type": "stream",
     "text": [
      "Hi Everyone! How are you\n"
     ]
    }
   ],
   "source": [
    "with open (\"C:\\\\Users\\\\LENOVO\\\\Downloads\\\\greeting.txt\") as f:\n",
    "    print(f.read())"
   ]
  },
  {
   "cell_type": "code",
   "execution_count": 64,
   "id": "bcf23612-5ac6-48cc-a709-5c46af4b54a5",
   "metadata": {},
   "outputs": [
    {
     "name": "stdout",
     "output_type": "stream",
     "text": [
      "Hi Everyone! How are you\n"
     ]
    }
   ],
   "source": [
    "with open(r\"C:\\Users\\LENOVO\\Downloads\\greeting.txt\") as f:\n",
    "    print(f.read())"
   ]
  },
  {
   "cell_type": "code",
   "execution_count": 68,
   "id": "760f8a26-a026-490c-8f07-3380d4948996",
   "metadata": {},
   "outputs": [
    {
     "name": "stdout",
     "output_type": "stream",
     "text": [
      "27\n"
     ]
    }
   ],
   "source": [
    "#creating a file in a specific location\n",
    "with open(\"C:\\\\Users\\\\LENOVO\\\\Downloads\\\\welcome.txt\",\"w\") as f:\n",
    "    print(f.write(\"Welcome to Geeta University\"))"
   ]
  },
  {
   "cell_type": "code",
   "execution_count": 91,
   "id": "e78c1d15-da1d-4aac-a33d-b476f2ab7ef9",
   "metadata": {},
   "outputs": [],
   "source": [
    "with open(\"C:\\\\Users\\\\LENOVO\\\\OneDrive\\\\Desktop\\\\poem.txt\") as f:\n",
    "    #print(f.readlines(5))\n",
    "    \n",
    "    #print(f.read(5))\n",
    "    data=f.read(100)"
   ]
  },
  {
   "cell_type": "code",
   "execution_count": 93,
   "id": "c7e6229e-a172-47f1-8d10-743b5bd47234",
   "metadata": {},
   "outputs": [
    {
     "name": "stdout",
     "output_type": "stream",
     "text": [
      "In the quiet hush of dawn's first light,\n",
      "Whispers of dreams take gentle flight.\n",
      "Golden rays dance on\n"
     ]
    }
   ],
   "source": [
    "print(data)"
   ]
  },
  {
   "cell_type": "code",
   "execution_count": 95,
   "id": "36a30dd0-c85a-4d7e-aec8-774161417799",
   "metadata": {},
   "outputs": [
    {
     "data": {
      "text/plain": [
       "'mode of file - \"r\" - read only\\n             - \"rt\" - read text\\n             - \"w\" - open the file in write mode and write the text. if the text is already written in the file.it over write it\\n             - \"a\" - append'"
      ]
     },
     "execution_count": 95,
     "metadata": {},
     "output_type": "execute_result"
    }
   ],
   "source": [
    "\"\"\"mode of file - \"r\" - read only\n",
    "             - \"rt\" - read text\n",
    "             - \"w\" - open the file in write mode and write the text. if the text is already written in the file.it over write it\n",
    "             - \"a\" - append\"\"\""
   ]
  },
  {
   "cell_type": "code",
   "execution_count": 99,
   "id": "6bdad941-2e7b-404b-b9c4-b6bc62c27677",
   "metadata": {},
   "outputs": [],
   "source": [
    "#for space stuff\n",
    "with open(\"C:\\\\Users\\\\LENOVO\\\\OneDrive\\\\Desktop\\\\poem.txt\",\"a\") as f:\n",
    "    f.write(\" A poem by me\")"
   ]
  },
  {
   "cell_type": "code",
   "execution_count": null,
   "id": "2f764de7-6b98-4d5d-94bf-17b9d747173a",
   "metadata": {},
   "outputs": [],
   "source": []
  }
 ],
 "metadata": {
  "kernelspec": {
   "display_name": "Python 3 (ipykernel)",
   "language": "python",
   "name": "python3"
  },
  "language_info": {
   "codemirror_mode": {
    "name": "ipython",
    "version": 3
   },
   "file_extension": ".py",
   "mimetype": "text/x-python",
   "name": "python",
   "nbconvert_exporter": "python",
   "pygments_lexer": "ipython3",
   "version": "3.11.5"
  }
 },
 "nbformat": 4,
 "nbformat_minor": 5
}
