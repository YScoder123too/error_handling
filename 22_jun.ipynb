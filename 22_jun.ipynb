{
 "cells": [
  {
   "cell_type": "markdown",
   "id": "80eeb4ea-93f4-4f8c-8040-2d934743d186",
   "metadata": {},
   "source": [
    "# NUMPY"
   ]
  },
  {
   "cell_type": "code",
   "execution_count": 2,
   "id": "5ce2691d-7b85-4ce4-bec3-7fbee4046542",
   "metadata": {},
   "outputs": [],
   "source": [
    "import numpy as np"
   ]
  },
  {
   "cell_type": "code",
   "execution_count": 3,
   "id": "f98a1f9d-18a0-4b41-8302-e00453cf9c56",
   "metadata": {},
   "outputs": [],
   "source": [
    "#creating array using list\n",
    "a=np.array([1,2,3,4,5,6])"
   ]
  },
  {
   "cell_type": "code",
   "execution_count": 4,
   "id": "60170a75-ac6c-4dc8-89bf-734742df420b",
   "metadata": {},
   "outputs": [
    {
     "data": {
      "text/plain": [
       "array([1, 2, 3, 4, 5, 6])"
      ]
     },
     "execution_count": 4,
     "metadata": {},
     "output_type": "execute_result"
    }
   ],
   "source": [
    "a"
   ]
  },
  {
   "cell_type": "code",
   "execution_count": 5,
   "id": "6acdeff2-daac-4464-bb03-24d57f726075",
   "metadata": {},
   "outputs": [],
   "source": [
    "#creating array using tuple\n",
    "a1=np.array((1,2,3,4,5))"
   ]
  },
  {
   "cell_type": "code",
   "execution_count": 6,
   "id": "8ef7e66a-833a-41d4-a0ed-f51bf84fc21a",
   "metadata": {},
   "outputs": [
    {
     "data": {
      "text/plain": [
       "array([1, 2, 3, 4, 5])"
      ]
     },
     "execution_count": 6,
     "metadata": {},
     "output_type": "execute_result"
    }
   ],
   "source": [
    "a1"
   ]
  },
  {
   "cell_type": "code",
   "execution_count": 7,
   "id": "32bdbf7d-e178-4391-89e3-d3525ff45e92",
   "metadata": {},
   "outputs": [
    {
     "data": {
      "text/plain": [
       "(6,)"
      ]
     },
     "execution_count": 7,
     "metadata": {},
     "output_type": "execute_result"
    }
   ],
   "source": [
    "a.shape"
   ]
  },
  {
   "cell_type": "code",
   "execution_count": 8,
   "id": "9cccfbdf-4c02-4eee-8796-15a3d3eeabbc",
   "metadata": {},
   "outputs": [
    {
     "data": {
      "text/plain": [
       "(5,)"
      ]
     },
     "execution_count": 8,
     "metadata": {},
     "output_type": "execute_result"
    }
   ],
   "source": [
    "a1.shape"
   ]
  },
  {
   "cell_type": "code",
   "execution_count": 9,
   "id": "c7d883b4-0fb6-4d98-8914-3f3b71d80966",
   "metadata": {},
   "outputs": [
    {
     "data": {
      "text/plain": [
       "numpy.ndarray"
      ]
     },
     "execution_count": 9,
     "metadata": {},
     "output_type": "execute_result"
    }
   ],
   "source": [
    "type(a)"
   ]
  },
  {
   "cell_type": "code",
   "execution_count": 10,
   "id": "9170d642-4041-4006-be71-1f7994b29e60",
   "metadata": {},
   "outputs": [
    {
     "data": {
      "text/plain": [
       "numpy.ndarray"
      ]
     },
     "execution_count": 10,
     "metadata": {},
     "output_type": "execute_result"
    }
   ],
   "source": [
    "type(a1)"
   ]
  },
  {
   "cell_type": "code",
   "execution_count": 11,
   "id": "110850a9-f882-40b6-b29d-e51eedae6de7",
   "metadata": {},
   "outputs": [],
   "source": [
    "t_d = np.array([[1, 2, 3, 4], [5, 6, 7, 8], [9, 10, 11, 12]])"
   ]
  },
  {
   "cell_type": "code",
   "execution_count": 12,
   "id": "17df2ac5-9b2e-4bde-a772-001943b53cd2",
   "metadata": {},
   "outputs": [
    {
     "data": {
      "text/plain": [
       "array([[ 1,  2,  3,  4],\n",
       "       [ 5,  6,  7,  8],\n",
       "       [ 9, 10, 11, 12]])"
      ]
     },
     "execution_count": 12,
     "metadata": {},
     "output_type": "execute_result"
    }
   ],
   "source": [
    "t_d"
   ]
  },
  {
   "cell_type": "code",
   "execution_count": 13,
   "id": "44804754-069b-4dce-9795-6bd7cd2d0906",
   "metadata": {},
   "outputs": [
    {
     "data": {
      "text/plain": [
       "(3, 4)"
      ]
     },
     "execution_count": 13,
     "metadata": {},
     "output_type": "execute_result"
    }
   ],
   "source": [
    "t_d.shape"
   ]
  },
  {
   "cell_type": "code",
   "execution_count": 14,
   "id": "f91d4ad9-dab4-4de6-a7e4-568a12cef404",
   "metadata": {},
   "outputs": [],
   "source": [
    "#accessing elements of 1-D array"
   ]
  },
  {
   "cell_type": "code",
   "execution_count": 15,
   "id": "25e3a967-60e3-4e2a-a3c8-90ebbe55a4ad",
   "metadata": {},
   "outputs": [
    {
     "data": {
      "text/plain": [
       "1"
      ]
     },
     "execution_count": 15,
     "metadata": {},
     "output_type": "execute_result"
    }
   ],
   "source": [
    "a[0]"
   ]
  },
  {
   "cell_type": "code",
   "execution_count": 16,
   "id": "ff7c5a25-bcb5-48c5-ad62-3f9035824bc6",
   "metadata": {},
   "outputs": [
    {
     "data": {
      "text/plain": [
       "6"
      ]
     },
     "execution_count": 16,
     "metadata": {},
     "output_type": "execute_result"
    }
   ],
   "source": [
    "a[-1]"
   ]
  },
  {
   "cell_type": "code",
   "execution_count": 17,
   "id": "b0d5505f-fd82-42a7-9e57-44bceb0b23e5",
   "metadata": {},
   "outputs": [],
   "source": [
    "#slicing elements in 1-D array"
   ]
  },
  {
   "cell_type": "code",
   "execution_count": 18,
   "id": "639c60ba-151b-46e9-b28e-1435c1942707",
   "metadata": {},
   "outputs": [
    {
     "data": {
      "text/plain": [
       "array([3, 4, 5])"
      ]
     },
     "execution_count": 18,
     "metadata": {},
     "output_type": "execute_result"
    }
   ],
   "source": [
    "a[2:5]"
   ]
  },
  {
   "cell_type": "code",
   "execution_count": 19,
   "id": "e70bc04d-70f5-4654-8919-a5f6d334b7b1",
   "metadata": {},
   "outputs": [
    {
     "data": {
      "text/plain": [
       "array([5])"
      ]
     },
     "execution_count": 19,
     "metadata": {},
     "output_type": "execute_result"
    }
   ],
   "source": [
    "a[-2:-1]"
   ]
  },
  {
   "cell_type": "code",
   "execution_count": 20,
   "id": "47b9a46b-4d14-4868-8b28-c90be2389dc4",
   "metadata": {},
   "outputs": [
    {
     "data": {
      "text/plain": [
       "array([4, 5])"
      ]
     },
     "execution_count": 20,
     "metadata": {},
     "output_type": "execute_result"
    }
   ],
   "source": [
    "a[-3:-1]"
   ]
  },
  {
   "cell_type": "code",
   "execution_count": 21,
   "id": "e85f91b7-7c11-4fee-a44e-49549ba95a34",
   "metadata": {},
   "outputs": [
    {
     "data": {
      "text/plain": [
       "array([3, 4, 5])"
      ]
     },
     "execution_count": 21,
     "metadata": {},
     "output_type": "execute_result"
    }
   ],
   "source": [
    "a[-4:-1]"
   ]
  },
  {
   "cell_type": "code",
   "execution_count": 22,
   "id": "b748af4f-f30d-499b-bf04-df279c6cbd65",
   "metadata": {},
   "outputs": [
    {
     "data": {
      "text/plain": [
       "array([1, 2, 3, 4, 5])"
      ]
     },
     "execution_count": 22,
     "metadata": {},
     "output_type": "execute_result"
    }
   ],
   "source": [
    "a[:5]"
   ]
  },
  {
   "cell_type": "code",
   "execution_count": 23,
   "id": "9795cc72-e9c2-43cc-80d6-513cda634298",
   "metadata": {},
   "outputs": [
    {
     "data": {
      "text/plain": [
       "array([3, 4, 5, 6])"
      ]
     },
     "execution_count": 23,
     "metadata": {},
     "output_type": "execute_result"
    }
   ],
   "source": [
    "a[2:]"
   ]
  },
  {
   "cell_type": "code",
   "execution_count": 47,
   "id": "d03698ab-7435-456c-a2e0-8b95d2030d7b",
   "metadata": {},
   "outputs": [],
   "source": [
    "marks=np.array([1,2,3,4,5,6,7,8,9,10])"
   ]
  },
  {
   "cell_type": "code",
   "execution_count": 49,
   "id": "7577450b-a5c0-44e1-bc4b-c31dee857565",
   "metadata": {},
   "outputs": [
    {
     "data": {
      "text/plain": [
       "array([1, 2, 3, 4, 5])"
      ]
     },
     "execution_count": 49,
     "metadata": {},
     "output_type": "execute_result"
    }
   ],
   "source": [
    "marks[:5]"
   ]
  },
  {
   "cell_type": "code",
   "execution_count": 53,
   "id": "d3702f1d-1783-49e5-8bcc-0286db608020",
   "metadata": {},
   "outputs": [
    {
     "data": {
      "text/plain": [
       "array([ 6,  7,  8,  9, 10])"
      ]
     },
     "execution_count": 53,
     "metadata": {},
     "output_type": "execute_result"
    }
   ],
   "source": [
    "marks[5:]"
   ]
  },
  {
   "cell_type": "code",
   "execution_count": 55,
   "id": "61c625d6-42a6-4067-a70a-f9aca3374273",
   "metadata": {},
   "outputs": [
    {
     "data": {
      "text/plain": [
       "array([7, 8])"
      ]
     },
     "execution_count": 55,
     "metadata": {},
     "output_type": "execute_result"
    }
   ],
   "source": [
    "marks[-4:-2]"
   ]
  },
  {
   "cell_type": "code",
   "execution_count": 57,
   "id": "abbce9cf-5abf-49d8-a435-0ca1d196a980",
   "metadata": {},
   "outputs": [],
   "source": [
    "#creating 2-D array"
   ]
  },
  {
   "cell_type": "code",
   "execution_count": 61,
   "id": "ce57efb7-4e7b-4bd4-a049-b6808d9f507b",
   "metadata": {},
   "outputs": [],
   "source": [
    "t_d= np.array([[1, 2, 3, 4], [5, 6, 7, 8], [9, 10, 11, 12]])"
   ]
  },
  {
   "cell_type": "code",
   "execution_count": 63,
   "id": "54cfc597-6ede-4577-9aae-1bd79749b595",
   "metadata": {},
   "outputs": [
    {
     "data": {
      "text/plain": [
       "array([[ 1,  2,  3,  4],\n",
       "       [ 5,  6,  7,  8],\n",
       "       [ 9, 10, 11, 12]])"
      ]
     },
     "execution_count": 63,
     "metadata": {},
     "output_type": "execute_result"
    }
   ],
   "source": [
    "t_d"
   ]
  },
  {
   "cell_type": "code",
   "execution_count": 65,
   "id": "174c287d-b72d-4317-acc0-582a139a736a",
   "metadata": {},
   "outputs": [
    {
     "data": {
      "text/plain": [
       "(3, 4)"
      ]
     },
     "execution_count": 65,
     "metadata": {},
     "output_type": "execute_result"
    }
   ],
   "source": [
    "t_d.shape"
   ]
  },
  {
   "cell_type": "code",
   "execution_count": 67,
   "id": "bd5274c0-561a-45e7-9d14-8a7cb60a78c6",
   "metadata": {},
   "outputs": [
    {
     "data": {
      "text/plain": [
       "2"
      ]
     },
     "execution_count": 67,
     "metadata": {},
     "output_type": "execute_result"
    }
   ],
   "source": [
    "t_d[0][1]"
   ]
  },
  {
   "cell_type": "code",
   "execution_count": 69,
   "id": "de851b92-72f5-4791-8eac-23b41ac362bf",
   "metadata": {},
   "outputs": [
    {
     "data": {
      "text/plain": [
       "array([2, 3])"
      ]
     },
     "execution_count": 69,
     "metadata": {},
     "output_type": "execute_result"
    }
   ],
   "source": [
    "t_d[0][1:3]"
   ]
  },
  {
   "cell_type": "code",
   "execution_count": 71,
   "id": "a13cc90c-ea65-4a1b-aca6-b294c237f87a",
   "metadata": {},
   "outputs": [],
   "source": [
    "a2=np.array(((1,2,3),(4,5,6)))"
   ]
  },
  {
   "cell_type": "code",
   "execution_count": 73,
   "id": "e7595031-8b3e-4e5e-ba74-4c649494b4ba",
   "metadata": {},
   "outputs": [
    {
     "data": {
      "text/plain": [
       "array([[1, 2, 3],\n",
       "       [4, 5, 6]])"
      ]
     },
     "execution_count": 73,
     "metadata": {},
     "output_type": "execute_result"
    }
   ],
   "source": [
    "a2"
   ]
  },
  {
   "cell_type": "code",
   "execution_count": 77,
   "id": "d7536080-3e8a-410c-adaf-477c4eea2bb1",
   "metadata": {},
   "outputs": [
    {
     "data": {
      "text/plain": [
       "2"
      ]
     },
     "execution_count": 77,
     "metadata": {},
     "output_type": "execute_result"
    }
   ],
   "source": [
    "a2[0][1]"
   ]
  },
  {
   "cell_type": "code",
   "execution_count": null,
   "id": "8ecd15c0-5b37-4308-b455-8d0b8bb8974c",
   "metadata": {},
   "outputs": [],
   "source": []
  }
 ],
 "metadata": {
  "kernelspec": {
   "display_name": "Python 3 (ipykernel)",
   "language": "python",
   "name": "python3"
  },
  "language_info": {
   "codemirror_mode": {
    "name": "ipython",
    "version": 3
   },
   "file_extension": ".py",
   "mimetype": "text/x-python",
   "name": "python",
   "nbconvert_exporter": "python",
   "pygments_lexer": "ipython3",
   "version": "3.11.5"
  }
 },
 "nbformat": 4,
 "nbformat_minor": 5
}
