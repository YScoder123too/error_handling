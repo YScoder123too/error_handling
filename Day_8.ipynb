{
 "cells": [
  {
   "cell_type": "markdown",
   "id": "f87bfc93-ab01-450d-b37e-51253b6b9c05",
   "metadata": {},
   "source": [
    "# File Handling"
   ]
  },
  {
   "cell_type": "code",
   "execution_count": 1,
   "id": "d9dfa34e-14d2-44d7-ba4a-975379d66713",
   "metadata": {},
   "outputs": [],
   "source": [
    "# two types of file = text file and binary file \n",
    "# file handling is important for any web application \n",
    "# it is used to read and write data in a file"
   ]
  },
  {
   "cell_type": "code",
   "execution_count": 2,
   "id": "84b1bee7-9c31-4f59-be5c-026af4ad7f51",
   "metadata": {},
   "outputs": [],
   "source": [
    "# opening a file - open() function is used to open a file\n",
    "# it takes two parameters - \"name of the file\" and mode"
   ]
  },
  {
   "cell_type": "code",
   "execution_count": 3,
   "id": "ff585a30-61e9-45a8-bd9b-79d570f4d448",
   "metadata": {},
   "outputs": [],
   "source": [
    "f = open(\"day_8.txt\",\"w\")"
   ]
  },
  {
   "cell_type": "code",
   "execution_count": 4,
   "id": "dc699356-f237-44d4-9a0e-d90b6531f65f",
   "metadata": {},
   "outputs": [
    {
     "data": {
      "text/plain": [
       "68"
      ]
     },
     "execution_count": 4,
     "metadata": {},
     "output_type": "execute_result"
    }
   ],
   "source": [
    "f.write(\"Hello I am Divi And i am currently doing SUmmer Internship in python\")"
   ]
  },
  {
   "cell_type": "code",
   "execution_count": 5,
   "id": "db80bcb0-8c2b-45df-b213-47de0663077d",
   "metadata": {},
   "outputs": [],
   "source": [
    "f.close()"
   ]
  },
  {
   "cell_type": "code",
   "execution_count": 6,
   "id": "ffa942e4-a516-406e-9bb4-dd21da3af0f9",
   "metadata": {},
   "outputs": [
    {
     "data": {
      "text/plain": [
       "True"
      ]
     },
     "execution_count": 6,
     "metadata": {},
     "output_type": "execute_result"
    }
   ],
   "source": [
    "f.closed"
   ]
  },
  {
   "cell_type": "code",
   "execution_count": 7,
   "id": "bc808ac3-17de-46d4-93d2-7781e90383ce",
   "metadata": {},
   "outputs": [],
   "source": [
    "f = open(\"day_8.txt\",\"r\")"
   ]
  },
  {
   "cell_type": "code",
   "execution_count": 8,
   "id": "eff0b06f-fad9-44af-aa21-f233c07fc962",
   "metadata": {},
   "outputs": [],
   "source": [
    "data = f.read()"
   ]
  },
  {
   "cell_type": "code",
   "execution_count": 9,
   "id": "d04bdfef-4405-45c6-9d39-91c5bac1fd76",
   "metadata": {},
   "outputs": [
    {
     "name": "stdout",
     "output_type": "stream",
     "text": [
      "Hello I am Divi And i am currently doing SUmmer Internship in python\n"
     ]
    }
   ],
   "source": [
    "print(data)"
   ]
  },
  {
   "cell_type": "code",
   "execution_count": 10,
   "id": "3b83d108-f324-4c61-a35f-13e220097f97",
   "metadata": {},
   "outputs": [],
   "source": [
    "file = open(\"Day_8.text\",\"w\")"
   ]
  },
  {
   "cell_type": "code",
   "execution_count": 11,
   "id": "a70b1241-d41b-44eb-b0b2-34bc8d601a7e",
   "metadata": {},
   "outputs": [
    {
     "data": {
      "text/plain": [
       "12"
      ]
     },
     "execution_count": 11,
     "metadata": {},
     "output_type": "execute_result"
    }
   ],
   "source": [
    "file.write(\"Hello World!\")"
   ]
  },
  {
   "cell_type": "code",
   "execution_count": 12,
   "id": "a2ca1a36-7bb6-49ed-9daa-c74c1dd6b48c",
   "metadata": {},
   "outputs": [],
   "source": [
    "file.close()"
   ]
  },
  {
   "cell_type": "code",
   "execution_count": 13,
   "id": "ef60cf2b-d3b2-4b2e-a2f4-01ab6af03a5c",
   "metadata": {},
   "outputs": [
    {
     "data": {
      "text/plain": [
       "True"
      ]
     },
     "execution_count": 13,
     "metadata": {},
     "output_type": "execute_result"
    }
   ],
   "source": [
    "file.closed"
   ]
  },
  {
   "cell_type": "code",
   "execution_count": 14,
   "id": "761133e6-c2f9-41ea-b405-fd2b6c8c4286",
   "metadata": {},
   "outputs": [],
   "source": [
    "file = open(\"Day_8.text\",\"r\")"
   ]
  },
  {
   "cell_type": "code",
   "execution_count": 15,
   "id": "62004359-bb03-4529-a2c8-ef6f4b33d92a",
   "metadata": {},
   "outputs": [],
   "source": [
    "read = file.read()"
   ]
  },
  {
   "cell_type": "code",
   "execution_count": 16,
   "id": "c1d27bed-a371-4fd2-bae3-7fc847a7afc1",
   "metadata": {},
   "outputs": [
    {
     "name": "stdout",
     "output_type": "stream",
     "text": [
      "Hello World!\n"
     ]
    }
   ],
   "source": [
    "print(read)"
   ]
  },
  {
   "cell_type": "code",
   "execution_count": 17,
   "id": "f8f15f42-f5b5-491f-a3c3-cdd843cee7cc",
   "metadata": {},
   "outputs": [
    {
     "name": "stdout",
     "output_type": "stream",
     "text": [
      "Hello World!\n"
     ]
    }
   ],
   "source": [
    "with open(\"Day_8.text\",\"r\") as f:    # automatically close kr deta hai # by default read mode le lega\n",
    "    print(f.read()) "
   ]
  },
  {
   "cell_type": "code",
   "execution_count": 18,
   "id": "b8f980bb-87cd-4dab-ad58-3a2ee3daac05",
   "metadata": {},
   "outputs": [
    {
     "data": {
      "text/plain": [
       "True"
      ]
     },
     "execution_count": 18,
     "metadata": {},
     "output_type": "execute_result"
    }
   ],
   "source": [
    "f.closed"
   ]
  },
  {
   "cell_type": "code",
   "execution_count": 19,
   "id": "e6d74e97-f15a-4eb1-abaf-560ce9188ec9",
   "metadata": {},
   "outputs": [],
   "source": [
    "with open(\"Day_8.text\",\"a\")as f:\n",
    "    f.write(\"Awesome!\")"
   ]
  },
  {
   "cell_type": "code",
   "execution_count": 20,
   "id": "c569fc99-2edf-48e9-848a-8c7ec04a19b5",
   "metadata": {},
   "outputs": [
    {
     "data": {
      "text/plain": [
       "True"
      ]
     },
     "execution_count": 20,
     "metadata": {},
     "output_type": "execute_result"
    }
   ],
   "source": [
    "f.closed"
   ]
  },
  {
   "cell_type": "code",
   "execution_count": 21,
   "id": "5870e829-0845-4121-b562-4392927ebd37",
   "metadata": {},
   "outputs": [],
   "source": [
    "with open(\"file_8\",\"w\") as G:\n",
    "    G.write(\"Disgusting Shaatt!\")"
   ]
  },
  {
   "cell_type": "code",
   "execution_count": 22,
   "id": "57a482b8-2a90-4937-a855-38cf3b99ec4e",
   "metadata": {},
   "outputs": [
    {
     "data": {
      "text/plain": [
       "True"
      ]
     },
     "execution_count": 22,
     "metadata": {},
     "output_type": "execute_result"
    }
   ],
   "source": [
    "G.closed"
   ]
  },
  {
   "cell_type": "code",
   "execution_count": 23,
   "id": "833c1ce4-8bc6-4cd8-b1ce-bca54becf31d",
   "metadata": {},
   "outputs": [],
   "source": [
    "# with open(\"file_8\",\"r\") as G:\n",
    "#     G.read(\"Hello Duniya!\")"
   ]
  },
  {
   "cell_type": "markdown",
   "id": "138c4ac2-b4a3-45e3-bb96-148aaef58250",
   "metadata": {},
   "source": [
    "# opening a file from a specific location"
   ]
  },
  {
   "cell_type": "code",
   "execution_count": 25,
   "id": "25542af0-fa3a-4a92-b7ac-2b99615a77c6",
   "metadata": {},
   "outputs": [
    {
     "name": "stdout",
     "output_type": "stream",
     "text": [
      "Heyaaa!\n"
     ]
    }
   ],
   "source": [
    "with open(\"C:\\\\Users\\\\hp\\\\Desktop\\\\Summer Internship PYTHON\\\\Great.txt\") as G:\n",
    "    print(G.read())"
   ]
  },
  {
   "cell_type": "code",
   "execution_count": 26,
   "id": "20cedaa9-e880-47af-8bc7-0f1ccc3e710a",
   "metadata": {},
   "outputs": [
    {
     "name": "stdout",
     "output_type": "stream",
     "text": [
      "Heyaaa!\n"
     ]
    }
   ],
   "source": [
    "with open(r\"C:\\Users\\hp\\Desktop\\Summer Internship PYTHON\\Great.txt\") as G:\n",
    "    print(G.read())"
   ]
  },
  {
   "cell_type": "code",
   "execution_count": 27,
   "id": "2b5d79dd-1e5a-4a18-bdfd-e56dab4c2e3b",
   "metadata": {},
   "outputs": [],
   "source": [
    "with open(r\"C:\\Users\\hp\\Desktop\\Summer Internship PYTHON\\Great.txt\",\"w\") as G:\n",
    "    G.write(\"Heyaaa!\")"
   ]
  },
  {
   "cell_type": "code",
   "execution_count": 28,
   "id": "d9af5c69-86fb-433b-9a75-c96dcb94d35a",
   "metadata": {},
   "outputs": [
    {
     "name": "stdout",
     "output_type": "stream",
     "text": [
      "Heyaaa!\n"
     ]
    }
   ],
   "source": [
    "with open(r\"C:\\Users\\hp\\Desktop\\Summer Internship PYTHON\\Great.txt\",\"r\") as G:\n",
    "    print(G.read())"
   ]
  },
  {
   "cell_type": "code",
   "execution_count": 29,
   "id": "1ae25021-f7d1-4e40-8b25-99cdab7a95a5",
   "metadata": {},
   "outputs": [],
   "source": [
    "with open(r\"C:\\Users\\hp\\Desktop\\Summer Internship PYTHON\\Welcome.txt\",\"w\") as G:\n",
    "    G.write(\"Welcome to Geeta University!\")"
   ]
  },
  {
   "cell_type": "markdown",
   "id": "aa6fd728-d2db-4c35-9465-7898ef5ec757",
   "metadata": {},
   "source": [
    "# Read Functions"
   ]
  },
  {
   "cell_type": "code",
   "execution_count": 44,
   "id": "b449f2f5-6a9c-4d2b-a968-bdf0b429cde5",
   "metadata": {},
   "outputs": [
    {
     "name": "stdout",
     "output_type": "stream",
     "text": [
      "['Beneath a velvet cloak of night, stars peek and gleam,\\n']\n"
     ]
    }
   ],
   "source": [
    "with open(\"C:\\\\Users\\\\hp\\\\Desktop\\\\Summer Internship PYTHON\\\\Poem.txt\") as p:\n",
    "    print(p.readlines(1))"
   ]
  },
  {
   "cell_type": "code",
   "execution_count": null,
   "id": "28d8e580-f560-4e56-b171-c6057322369b",
   "metadata": {},
   "outputs": [],
   "source": []
  },
  {
   "cell_type": "code",
   "execution_count": null,
   "id": "de58b41c-7e54-4f93-9166-84162eb7c4bb",
   "metadata": {},
   "outputs": [],
   "source": []
  }
 ],
 "metadata": {
  "kernelspec": {
   "display_name": "Python 3 (ipykernel)",
   "language": "python",
   "name": "python3"
  },
  "language_info": {
   "codemirror_mode": {
    "name": "ipython",
    "version": 3
   },
   "file_extension": ".py",
   "mimetype": "text/x-python",
   "name": "python",
   "nbconvert_exporter": "python",
   "pygments_lexer": "ipython3",
   "version": "3.11.7"
  }
 },
 "nbformat": 4,
 "nbformat_minor": 5
}
