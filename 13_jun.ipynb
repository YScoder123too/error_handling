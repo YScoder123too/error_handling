{
 "cells": [
  {
   "cell_type": "code",
   "execution_count": 1,
   "id": "aff451d6-aa1e-4526-98ad-b1f46455fc4e",
   "metadata": {},
   "outputs": [
    {
     "name": "stdout",
     "output_type": "stream",
     "text": [
      "2\n"
     ]
    }
   ],
   "source": [
    "print(2)"
   ]
  },
  {
   "cell_type": "markdown",
   "id": "d15979f4-8fac-42db-911e-10b7945ffbec",
   "metadata": {},
   "source": [
    "# 13 Jun 2024 Python"
   ]
  },
  {
   "cell_type": "code",
   "execution_count": 3,
   "id": "57eba3c1-4bf1-44ca-8bb3-87c565913d15",
   "metadata": {},
   "outputs": [
    {
     "name": "stdout",
     "output_type": "stream",
     "text": [
      "2.0\n"
     ]
    }
   ],
   "source": [
    "a=10 \n",
    "b=5\n",
    "c=a/b\n",
    "print(c)"
   ]
  },
  {
   "cell_type": "code",
   "execution_count": 4,
   "id": "7a9266c2-8d76-4946-871f-3ee607e22c98",
   "metadata": {},
   "outputs": [
    {
     "name": "stdout",
     "output_type": "stream",
     "text": [
      "2\n"
     ]
    }
   ],
   "source": [
    "print(a//b) #if u don't want the decimal part then use //"
   ]
  },
  {
   "cell_type": "code",
   "execution_count": 5,
   "id": "35de8d47-8cfd-444c-8b41-35a9965637d3",
   "metadata": {},
   "outputs": [
    {
     "data": {
      "text/plain": [
       "1.0"
      ]
     },
     "execution_count": 5,
     "metadata": {},
     "output_type": "execute_result"
    }
   ],
   "source": [
    "2.0//2.0"
   ]
  },
  {
   "cell_type": "code",
   "execution_count": 6,
   "id": "7e8511fe-d59a-4095-883b-3131c07ca32e",
   "metadata": {},
   "outputs": [
    {
     "name": "stdout",
     "output_type": "stream",
     "text": [
      "8\n"
     ]
    }
   ],
   "source": [
    "print(2**3)"
   ]
  },
  {
   "cell_type": "code",
   "execution_count": 7,
   "id": "b1496000-d7e9-4e48-866b-6e8787b803b4",
   "metadata": {},
   "outputs": [
    {
     "name": "stdout",
     "output_type": "stream",
     "text": [
      "0\n"
     ]
    }
   ],
   "source": [
    "print(24&34) #binary comparision hota hai ek ke neche ek likh kar phir & laga dena"
   ]
  },
  {
   "cell_type": "code",
   "execution_count": 8,
   "id": "48528cba-5c0c-4910-8090-29cc621d4f39",
   "metadata": {},
   "outputs": [
    {
     "name": "stdout",
     "output_type": "stream",
     "text": [
      "12.0\n",
      "22.0\n",
      "60.0\n"
     ]
    }
   ],
   "source": [
    "a=20\n",
    "b=10\n",
    "v=15\n",
    "d=5\n",
    "e=2\n",
    "f=(a+b)*c/d\n",
    "print(f)\n",
    "g=a+(b*c)/d-e\n",
    "print(g)\n",
    "h=a+b*c**e\n",
    "print(h)"
   ]
  },
  {
   "cell_type": "markdown",
   "id": "7f935767-96fa-4fbc-ba47-358da925ab9d",
   "metadata": {},
   "source": [
    "# Multiple assignment::a=b=c=1.5;a,b,c=1,2,\"blue\""
   ]
  },
  {
   "cell_type": "code",
   "execution_count": 10,
   "id": "9f410b2a-ab6d-43cc-82cf-badcfd4a15a5",
   "metadata": {},
   "outputs": [],
   "source": [
    "a=b=c=2"
   ]
  },
  {
   "cell_type": "code",
   "execution_count": 11,
   "id": "f066c058-6458-4a97-aafa-8939583b2c5f",
   "metadata": {},
   "outputs": [
    {
     "name": "stdout",
     "output_type": "stream",
     "text": [
      "2 2 2\n"
     ]
    }
   ],
   "source": [
    "print(a,b,c)"
   ]
  },
  {
   "cell_type": "code",
   "execution_count": 12,
   "id": "7381979a-e57c-4ab6-bb06-c48660ad7fc0",
   "metadata": {},
   "outputs": [
    {
     "name": "stdout",
     "output_type": "stream",
     "text": [
      "10 3.14 Hello\n"
     ]
    }
   ],
   "source": [
    "a,b,c=10,3.14,\"Hello\"\n",
    "print(a,b,c)"
   ]
  },
  {
   "cell_type": "markdown",
   "id": "1f487cf0-c953-483e-a66e-4abce9dac6ad",
   "metadata": {},
   "source": [
    "# Special use of '+' and '*'"
   ]
  },
  {
   "cell_type": "code",
   "execution_count": 14,
   "id": "dd8c1b80-0680-4e9d-bf12-0c05e6ddc428",
   "metadata": {},
   "outputs": [
    {
     "name": "stdout",
     "output_type": "stream",
     "text": [
      "My name is Yogita\n"
     ]
    }
   ],
   "source": [
    "x=\"My name is \"\n",
    "y=\"Yogita\"\n",
    "print(x+y)"
   ]
  },
  {
   "cell_type": "code",
   "execution_count": 15,
   "id": "b8b17fc5-cf27-443f-ac96-f857898fea00",
   "metadata": {},
   "outputs": [
    {
     "name": "stdout",
     "output_type": "stream",
     "text": [
      "It is very very hot\n"
     ]
    }
   ],
   "source": [
    "print('It is'+' very'*2+' hot')"
   ]
  },
  {
   "cell_type": "markdown",
   "id": "b7c539cb-0520-4d99-9a73-9cbcf5ccf008",
   "metadata": {},
   "source": [
    "# Use of \\\",\\n,\\t"
   ]
  },
  {
   "cell_type": "markdown",
   "id": "96f67c47-c978-41bb-99a3-2268085a5dba",
   "metadata": {},
   "source": [
    "print(\"My father says 'honesty is the best policy'\")"
   ]
  },
  {
   "cell_type": "code",
   "execution_count": 18,
   "id": "86fa3e53-240b-49f1-8742-5eb4176ced81",
   "metadata": {},
   "outputs": [
    {
     "name": "stdout",
     "output_type": "stream",
     "text": [
      "My father says \"honesty is the best policy\"\n"
     ]
    }
   ],
   "source": [
    "print(\"My father says \\\"honesty is the best policy\\\"\")"
   ]
  },
  {
   "cell_type": "code",
   "execution_count": 19,
   "id": "ecf553ab-b421-4c07-b9bc-25a192550672",
   "metadata": {},
   "outputs": [
    {
     "name": "stdout",
     "output_type": "stream",
     "text": [
      "This is Rohan's dog\n"
     ]
    }
   ],
   "source": [
    "print(\"This is Rohan\\'s dog\")"
   ]
  },
  {
   "cell_type": "code",
   "execution_count": 20,
   "id": "b4aa3e23-f098-462d-9c00-815d81e7a240",
   "metadata": {},
   "outputs": [
    {
     "name": "stdout",
     "output_type": "stream",
     "text": [
      "This is Rohan's dog\n"
     ]
    }
   ],
   "source": [
    "print(\"This is Rohan's dog\")"
   ]
  },
  {
   "cell_type": "code",
   "execution_count": 21,
   "id": "02af18cb-32e8-4bcf-a35a-6a0d16029fbb",
   "metadata": {},
   "outputs": [
    {
     "name": "stdout",
     "output_type": "stream",
     "text": [
      "a\t b\t\n"
     ]
    }
   ],
   "source": [
    "print(\"a\\t b\\t\")"
   ]
  },
  {
   "cell_type": "code",
   "execution_count": 42,
   "id": "f0b52128-5064-4091-a6c4-94296b33136a",
   "metadata": {},
   "outputs": [
    {
     "name": "stdout",
     "output_type": "stream",
     "text": [
      "a\n",
      "b\n",
      "\n"
     ]
    }
   ],
   "source": [
    "print(\"a\\nb\\n\")"
   ]
  },
  {
   "cell_type": "markdown",
   "id": "9b0db9e9-86cf-4ee9-ad92-d67e6e04dcb9",
   "metadata": {},
   "source": [
    "# Comment==># and \"\"\" and '''  "
   ]
  },
  {
   "cell_type": "code",
   "execution_count": 55,
   "id": "f270b09e-04aa-4fa6-adbf-7fbcf5f2acfa",
   "metadata": {},
   "outputs": [
    {
     "name": "stdout",
     "output_type": "stream",
     "text": [
      "lol\n"
     ]
    }
   ],
   "source": [
    "#Single line comment\n",
    "\"\"\"hello \n",
    "how r u\"\"\"\n",
    "'''lmao\n",
    "lol bruh'''\n",
    "print(\"lol\");"
   ]
  },
  {
   "cell_type": "markdown",
   "id": "2d0e743f-ac3a-4ad7-a643-7a8aa3c3edd9",
   "metadata": {},
   "source": [
    "# id(),ord(),chr()"
   ]
  },
  {
   "cell_type": "code",
   "execution_count": 74,
   "id": "4dffbb0e-7ab3-4c08-b994-898187c10f0c",
   "metadata": {},
   "outputs": [
    {
     "data": {
      "text/plain": [
       "140708875768744"
      ]
     },
     "execution_count": 74,
     "metadata": {},
     "output_type": "execute_result"
    }
   ],
   "source": [
    "a=5\n",
    "id(a)# unique id"
   ]
  },
  {
   "cell_type": "code",
   "execution_count": 72,
   "id": "6002a3dc-8e03-4795-852e-a09404c20780",
   "metadata": {},
   "outputs": [
    {
     "data": {
      "text/plain": [
       "65"
      ]
     },
     "execution_count": 72,
     "metadata": {},
     "output_type": "execute_result"
    }
   ],
   "source": [
    "b=\"A\"\n",
    "ord(b)# ascii value"
   ]
  },
  {
   "cell_type": "code",
   "execution_count": 78,
   "id": "28dacbf5-6925-444b-bb25-1d0a6a84e45c",
   "metadata": {},
   "outputs": [
    {
     "data": {
      "text/plain": [
       "'A'"
      ]
     },
     "execution_count": 78,
     "metadata": {},
     "output_type": "execute_result"
    }
   ],
   "source": [
    "c=65\n",
    "chr(c)# alphabet related to the given ascii value"
   ]
  },
  {
   "cell_type": "code",
   "execution_count": 80,
   "id": "a257d31e-62d2-4308-ac32-2a684ae81c7b",
   "metadata": {},
   "outputs": [],
   "source": [
    "a=5\n",
    "b=10"
   ]
  },
  {
   "cell_type": "code",
   "execution_count": 82,
   "id": "a477db1e-d55e-4dc9-bc80-f3cc8f777b49",
   "metadata": {},
   "outputs": [
    {
     "data": {
      "text/plain": [
       "140708875768744"
      ]
     },
     "execution_count": 82,
     "metadata": {},
     "output_type": "execute_result"
    }
   ],
   "source": [
    "id(a) # heap and stack mai memory hoti hai"
   ]
  },
  {
   "cell_type": "code",
   "execution_count": 86,
   "id": "0057b056-e486-48c4-95e1-73e349663a22",
   "metadata": {},
   "outputs": [
    {
     "data": {
      "text/plain": [
       "140708875768904"
      ]
     },
     "execution_count": 86,
     "metadata": {},
     "output_type": "execute_result"
    }
   ],
   "source": [
    "id(b)"
   ]
  },
  {
   "cell_type": "markdown",
   "id": "bd4dfb26-a29a-4eaa-8d67-d6e809a3de80",
   "metadata": {},
   "source": [
    "# Conditional Flow Structures"
   ]
  },
  {
   "cell_type": "code",
   "execution_count": 107,
   "id": "be6bc3e9-804b-402e-ac36-34d0292c4567",
   "metadata": {},
   "outputs": [
    {
     "name": "stdin",
     "output_type": "stream",
     "text": [
      "Enter a number: 4\n"
     ]
    },
    {
     "name": "stdout",
     "output_type": "stream",
     "text": [
      "even\n"
     ]
    }
   ],
   "source": [
    "a=int(input(\"Enter a number:\"))\n",
    "if a%2==0:\n",
    "    print(\"even\")\n",
    "else:    \n",
    "    print(\"odd\")"
   ]
  },
  {
   "cell_type": "code",
   "execution_count": 101,
   "id": "825dbab1-c50e-443e-a91a-01128366b1e2",
   "metadata": {},
   "outputs": [
    {
     "name": "stdout",
     "output_type": "stream",
     "text": [
      "Variable               Type        Data/Info\n",
      "--------------------------------------------\n",
      "a                      int         4\n",
      "b                      int         10\n",
      "c                      int         65\n",
      "d                      int         5\n",
      "dataframe_columns      function    <function dataframe_colum<...>ns at 0x0000024282D51D00>\n",
      "dataframe_hash         function    <function dataframe_hash at 0x0000024282D520C0>\n",
      "dtypes_str             function    <function dtypes_str at 0x0000024282D539C0>\n",
      "e                      int         2\n",
      "f                      float       12.0\n",
      "g                      float       22.0\n",
      "get_dataframes         function    <function get_dataframes at 0x0000024283DECB80>\n",
      "getpass                module      <module 'getpass' from 'C<...>conda3\\\\Lib\\\\getpass.py'>\n",
      "h                      float       60.0\n",
      "hashlib                module      <module 'hashlib' from 'C<...>conda3\\\\Lib\\\\hashlib.py'>\n",
      "import_pandas_safely   function    <function import_pandas_s<...>ly at 0x0000024283DEF240>\n",
      "is_data_frame          function    <function is_data_frame at 0x0000024283DEEF20>\n",
      "json                   module      <module 'json' from 'C:\\\\<...>\\Lib\\\\json\\\\__init__.py'>\n",
      "v                      int         15\n",
      "x                      str         My name is \n",
      "y                      str         Yogita\n"
     ]
    }
   ],
   "source": [
    "whos"
   ]
  },
  {
   "cell_type": "code",
   "execution_count": 105,
   "id": "e3939d56-b057-42e6-90a6-0ce5c45da501",
   "metadata": {},
   "outputs": [
    {
     "data": {
      "text/plain": [
       "int"
      ]
     },
     "execution_count": 105,
     "metadata": {},
     "output_type": "execute_result"
    }
   ],
   "source": [
    "type(a) # by default input value ko string liya jata hai"
   ]
  },
  {
   "cell_type": "code",
   "execution_count": 109,
   "id": "1d101924-0fec-4385-ba89-08a45f2e2f72",
   "metadata": {},
   "outputs": [
    {
     "data": {
      "text/plain": [
       "\u001b[1;31mType:\u001b[0m        int\n",
       "\u001b[1;31mString form:\u001b[0m 15\n",
       "\u001b[1;31mDocstring:\u001b[0m  \n",
       "int([x]) -> integer\n",
       "int(x, base=10) -> integer\n",
       "\n",
       "Convert a number or string to an integer, or return 0 if no arguments\n",
       "are given.  If x is a number, return x.__int__().  For floating point\n",
       "numbers, this truncates towards zero.\n",
       "\n",
       "If x is not a number or if base is given, then x must be a string,\n",
       "bytes, or bytearray instance representing an integer literal in the\n",
       "given base.  The literal can be preceded by '+' or '-' and be surrounded\n",
       "by whitespace.  The base defaults to 10.  Valid bases are 0 and 2-36.\n",
       "Base 0 means to interpret the base from the string as an integer literal.\n",
       ">>> int('0b100', base=0)\n",
       "4"
      ]
     },
     "metadata": {},
     "output_type": "display_data"
    }
   ],
   "source": [
    "v?"
   ]
  },
  {
   "cell_type": "code",
   "execution_count": 132,
   "id": "aa78d8d9-ccbd-4574-b23e-587fe9b0f97c",
   "metadata": {},
   "outputs": [
    {
     "name": "stdin",
     "output_type": "stream",
     "text": [
      "Enter your nationality: Indian\n",
      "Enter your age: 23\n"
     ]
    },
    {
     "name": "stdout",
     "output_type": "stream",
     "text": [
      "Eligible for voting\n"
     ]
    }
   ],
   "source": [
    "x=input(\"Enter your nationality:\")\n",
    "y=int(input(\"Enter your age:\"))\n",
    "if x==\"Indian\":\n",
    "    if y>=18:\n",
    "        print(\"Eligible for voting\")\n",
    "    else:\n",
    "        print(\"Not Eligible for voting\")\n",
    "else:\n",
    "    print(\"Not a citizen of India\")"
   ]
  },
  {
   "cell_type": "code",
   "execution_count": 176,
   "id": "4adb0c9a-f3d5-4129-a522-2ca5abf2333f",
   "metadata": {},
   "outputs": [],
   "source": [
    "#"
   ]
  },
  {
   "cell_type": "code",
   "execution_count": 180,
   "id": "a7a5d9a7-782a-4acc-80b5-058792bd7d05",
   "metadata": {},
   "outputs": [
    {
     "name": "stdin",
     "output_type": "stream",
     "text": [
      "Enter the year: 1900\n"
     ]
    },
    {
     "name": "stdout",
     "output_type": "stream",
     "text": [
      "Not a Leap year\n"
     ]
    }
   ],
   "source": [
    "#leap year\n",
    "year=int(input(\"Enter the year:\"))\n",
    "if year%4==0:\n",
    "    if year%100==0:\n",
    "        if year%400==0:\n",
    "            print(\"Leap year\")\n",
    "        else:\n",
    "            print(\"Not a Leap year\")\n",
    "    else:\n",
    "        print(\"Leap year\")\n",
    "else:\n",
    "   print(\"Not a leap year\")"
   ]
  },
  {
   "cell_type": "markdown",
   "id": "5b1ccaf5-ebc9-4bbe-afd1-7996e81d3a7f",
   "metadata": {},
   "source": [
    "# if elif statement"
   ]
  },
  {
   "cell_type": "code",
   "execution_count": 193,
   "id": "451a787b-e0d1-446d-b5e7-2550888ef321",
   "metadata": {},
   "outputs": [
    {
     "name": "stdin",
     "output_type": "stream",
     "text": [
      "Enter a number: 88\n"
     ]
    },
    {
     "name": "stdout",
     "output_type": "stream",
     "text": [
      "positive number\n"
     ]
    }
   ],
   "source": [
    "num=int(input(\"Enter a number:\"))\n",
    "if num>0:\n",
    "    print(\"positive number\")\n",
    "elif num==0:\n",
    "    print(\"Zero\")\n",
    "else:\n",
    "    print(\"negative number\")"
   ]
  },
  {
   "cell_type": "code",
   "execution_count": 217,
   "id": "9cb78836-7add-4094-bab6-f1e72d5405dd",
   "metadata": {},
   "outputs": [
    {
     "name": "stdin",
     "output_type": "stream",
     "text": [
      "Enter your marks: 5\n"
     ]
    },
    {
     "name": "stdout",
     "output_type": "stream",
     "text": [
      "Grade:E\n"
     ]
    }
   ],
   "source": [
    "a=int(input(\"Enter your marks:\"))\n",
    "if a>=90 and a<=100:\n",
    "    print(\"Grade:A\")\n",
    "elif a>=80 and a<=90:\n",
    "    print(\"Grade:B\")    \n",
    "elif a>=70 and a<=80:\n",
    "    print(\"Grade:C\")\n",
    "elif a>=60 and a<=70:\n",
    "    print(\"Grade:D\")\n",
    "elif a<=60 and a>=0:\n",
    "    print(\"Grade:E\")    \n",
    "else:\n",
    "    print(\"Invalid marks\")  \n",
    "      "
   ]
  },
  {
   "cell_type": "code",
   "execution_count": null,
   "id": "c4c2a958-9f99-4fba-a5eb-9ea1018c0a49",
   "metadata": {},
   "outputs": [],
   "source": []
  }
 ],
 "metadata": {
  "kernelspec": {
   "display_name": "Python 3 (ipykernel)",
   "language": "python",
   "name": "python3"
  },
  "language_info": {
   "codemirror_mode": {
    "name": "ipython",
    "version": 3
   },
   "file_extension": ".py",
   "mimetype": "text/x-python",
   "name": "python",
   "nbconvert_exporter": "python",
   "pygments_lexer": "ipython3",
   "version": "3.11.5"
  }
 },
 "nbformat": 4,
 "nbformat_minor": 5
}
