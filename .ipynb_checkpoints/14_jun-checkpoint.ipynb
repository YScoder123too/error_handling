{
 "cells": [
  {
   "cell_type": "markdown",
   "id": "0a6c7be7-b275-47a7-ab19-3d1a95e04cb2",
   "metadata": {},
   "source": [
    "# Looping Statement"
   ]
  },
  {
   "cell_type": "code",
   "execution_count": 2,
   "id": "16dc0adb-402a-41a4-83f4-23b854683a97",
   "metadata": {},
   "outputs": [
    {
     "name": "stdout",
     "output_type": "stream",
     "text": [
      "1 2 3 4 5 6 7 8 9 10 "
     ]
    }
   ],
   "source": [
    "i=1\n",
    "while i<=10:\n",
    "    #print(i,end=\",\")\n",
    "    print(i,end=\" \",sep=\",\")\n",
    "    i+=1"
   ]
  },
  {
   "cell_type": "code",
   "execution_count": 3,
   "id": "7de56ab5-e124-455e-929a-0ea60cafcd61",
   "metadata": {},
   "outputs": [
    {
     "name": "stdout",
     "output_type": "stream",
     "text": [
      "2,4,6,8,10,12,14,16,18,20,22,24,26,28,30,32,34,36,38,40,42,44,46,48,50,52,54,56,58,60,62,64,66,68,70,72,74,76,78,80,82,84,86,88,90,92,94,96,98,100,"
     ]
    }
   ],
   "source": [
    "i=1\n",
    "while i<=100:\n",
    "    if i%2==0:\n",
    "       print(i,end=\",\")\n",
    "    i+=1   #ye i while ka hai"
   ]
  },
  {
   "cell_type": "code",
   "execution_count": 4,
   "id": "e9d49bde-2f30-4f51-afc4-82cd580ff573",
   "metadata": {},
   "outputs": [
    {
     "name": "stdout",
     "output_type": "stream",
     "text": [
      "Hello-World\n",
      "Hello World\n"
     ]
    }
   ],
   "source": [
    "print(\"Hello\", \"World\", sep=\"-\")  # Output: Hello-World\n",
    "print(\"Hello\", end=\" \")\n",
    "print(\"World\")  # Output: Hello World"
   ]
  },
  {
   "cell_type": "markdown",
   "id": "7fefa59b-3d59-43c2-b936-f4e320b008bb",
   "metadata": {},
   "source": [
    "# range()"
   ]
  },
  {
   "cell_type": "code",
   "execution_count": 6,
   "id": "0e0989fa-4777-451e-bdde-fcf0a337be3c",
   "metadata": {},
   "outputs": [
    {
     "name": "stdout",
     "output_type": "stream",
     "text": [
      "range(0, 4)\n"
     ]
    }
   ],
   "source": [
    "print(range(4))"
   ]
  },
  {
   "cell_type": "code",
   "execution_count": 7,
   "id": "bbef2f99-6833-43a2-a53b-c040e728fe10",
   "metadata": {},
   "outputs": [
    {
     "data": {
      "text/plain": [
       "\u001b[1;31mInit signature:\u001b[0m \u001b[0mrange\u001b[0m\u001b[1;33m(\u001b[0m\u001b[0mself\u001b[0m\u001b[1;33m,\u001b[0m \u001b[1;33m/\u001b[0m\u001b[1;33m,\u001b[0m \u001b[1;33m*\u001b[0m\u001b[0margs\u001b[0m\u001b[1;33m,\u001b[0m \u001b[1;33m**\u001b[0m\u001b[0mkwargs\u001b[0m\u001b[1;33m)\u001b[0m\u001b[1;33m\u001b[0m\u001b[1;33m\u001b[0m\u001b[0m\n",
       "\u001b[1;31mDocstring:\u001b[0m     \n",
       "range(stop) -> range object\n",
       "range(start, stop[, step]) -> range object\n",
       "\n",
       "Return an object that produces a sequence of integers from start (inclusive)\n",
       "to stop (exclusive) by step.  range(i, j) produces i, i+1, i+2, ..., j-1.\n",
       "start defaults to 0, and stop is omitted!  range(4) produces 0, 1, 2, 3.\n",
       "These are exactly the valid indices for a list of 4 elements.\n",
       "When step is given, it specifies the increment (or decrement).\n",
       "\u001b[1;31mType:\u001b[0m           type\n",
       "\u001b[1;31mSubclasses:\u001b[0m     "
      ]
     },
     "metadata": {},
     "output_type": "display_data"
    }
   ],
   "source": [
    "range?"
   ]
  },
  {
   "cell_type": "code",
   "execution_count": 8,
   "id": "3be8fe3f-6c42-4faa-85b8-8f520736d7d7",
   "metadata": {},
   "outputs": [
    {
     "data": {
      "text/plain": [
       "range(0, 4)"
      ]
     },
     "execution_count": 8,
     "metadata": {},
     "output_type": "execute_result"
    }
   ],
   "source": [
    "range(0,4)"
   ]
  },
  {
   "cell_type": "code",
   "execution_count": 9,
   "id": "ff98ee06-6d98-47a9-86df-4ac616d88f6c",
   "metadata": {},
   "outputs": [
    {
     "name": "stdout",
     "output_type": "stream",
     "text": [
      "range(0, -1)\n"
     ]
    }
   ],
   "source": [
    "print(range(-1))"
   ]
  },
  {
   "cell_type": "code",
   "execution_count": 10,
   "id": "91e0bf28-13ab-490e-a8a7-1fbc6bf10e7d",
   "metadata": {},
   "outputs": [
    {
     "name": "stdout",
     "output_type": "stream",
     "text": [
      "range(0, 0)\n"
     ]
    }
   ],
   "source": [
    "print(range(0))# iterator,interables==>interation"
   ]
  },
  {
   "cell_type": "code",
   "execution_count": 11,
   "id": "8171910b-22bb-4709-a137-b9c67045d1b4",
   "metadata": {},
   "outputs": [
    {
     "name": "stdout",
     "output_type": "stream",
     "text": [
      "50\n",
      "48\n",
      "46\n",
      "44\n",
      "42\n",
      "40\n",
      "38\n",
      "36\n",
      "34\n",
      "32\n",
      "30\n",
      "28\n",
      "26\n",
      "24\n",
      "22\n",
      "20\n",
      "18\n",
      "16\n",
      "14\n",
      "12\n",
      "10\n",
      "8\n",
      "6\n",
      "4\n",
      "2\n"
     ]
    }
   ],
   "source": [
    "for i in range(50,0,-2):\n",
    "    print(i)"
   ]
  },
  {
   "cell_type": "code",
   "execution_count": 12,
   "id": "5e20729d-4b38-4774-8f18-cdbdc86015f4",
   "metadata": {},
   "outputs": [
    {
     "name": "stdout",
     "output_type": "stream",
     "text": [
      "A\n",
      "B\n",
      "C\n",
      "D\n",
      "E\n",
      "F\n",
      "G\n",
      "H\n",
      "I\n",
      "J\n",
      "K\n",
      "L\n",
      "M\n",
      "N\n",
      "O\n",
      "P\n",
      "Q\n",
      "R\n",
      "S\n",
      "T\n",
      "U\n",
      "V\n",
      "W\n",
      "X\n",
      "Y\n",
      "Z\n"
     ]
    }
   ],
   "source": [
    "for i in range(ord('A'),ord('Z')+1):\n",
    "    print(chr(i))"
   ]
  },
  {
   "cell_type": "code",
   "execution_count": 13,
   "id": "7fd9099c-84aa-468f-b0b8-745389dd057d",
   "metadata": {},
   "outputs": [
    {
     "name": "stdout",
     "output_type": "stream",
     "text": [
      "A\n",
      "B\n",
      "C\n",
      "D\n",
      "E\n",
      "F\n",
      "G\n",
      "H\n",
      "I\n",
      "J\n",
      "K\n",
      "L\n",
      "M\n",
      "N\n",
      "O\n",
      "P\n",
      "Q\n",
      "R\n",
      "S\n",
      "T\n",
      "U\n",
      "V\n",
      "W\n",
      "X\n",
      "Y\n",
      "Z\n"
     ]
    }
   ],
   "source": [
    "start=65\n",
    "end=90\n",
    "for i in range(start,end+1):\n",
    "    print(chr(i))"
   ]
  },
  {
   "cell_type": "markdown",
   "id": "2dac467a-ace2-46d4-84af-86046b414bca",
   "metadata": {},
   "source": [
    "# Pattern printing"
   ]
  },
  {
   "cell_type": "code",
   "execution_count": 15,
   "id": "afe120ee-ced1-4750-b586-bf6665b5396b",
   "metadata": {},
   "outputs": [
    {
     "name": "stdout",
     "output_type": "stream",
     "text": [
      "# # # # \n",
      "# # # # \n",
      "# # # # \n",
      "# # # # \n"
     ]
    }
   ],
   "source": [
    "\"\"\"\n",
    "# # # #\n",
    "# # # #\n",
    "# # # #\n",
    "# # # #\n",
    "\"\"\"\n",
    "for i in range(1,5,1):#affecting the rows\n",
    "    for i in range(1,5,1):#affecting the columns\n",
    "        print('#',end=\" \")\n",
    "    print()    \n"
   ]
  },
  {
   "cell_type": "code",
   "execution_count": 16,
   "id": "52dce643-df07-471f-afd6-4de2c8086b1e",
   "metadata": {},
   "outputs": [
    {
     "name": "stdout",
     "output_type": "stream",
     "text": [
      "* \n",
      "* * \n",
      "* * * \n",
      "* * * * \n",
      "* * * * * \n"
     ]
    }
   ],
   "source": [
    "for i in range(5):\n",
    "    for j in range(i+1):\n",
    "        print('*',end=\" \")\n",
    "    print()"
   ]
  },
  {
   "cell_type": "markdown",
   "id": "71fd8bc3-85f6-4592-aef3-75a48f615577",
   "metadata": {},
   "source": [
    "# List Methods"
   ]
  },
  {
   "cell_type": "code",
   "execution_count": 18,
   "id": "bd92e003-8e39-4b8d-879e-016a291d3a15",
   "metadata": {},
   "outputs": [
    {
     "name": "stdout",
     "output_type": "stream",
     "text": [
      "[1, 2, 3, 4]\n"
     ]
    }
   ],
   "source": [
    "a=[1,2,3,4]\n",
    "print(a)"
   ]
  },
  {
   "cell_type": "code",
   "execution_count": 19,
   "id": "dd5b3e75-1045-4dfd-86cc-9da856e037c5",
   "metadata": {},
   "outputs": [
    {
     "data": {
      "text/plain": [
       "list"
      ]
     },
     "execution_count": 19,
     "metadata": {},
     "output_type": "execute_result"
    }
   ],
   "source": [
    "type(a)"
   ]
  },
  {
   "cell_type": "code",
   "execution_count": 20,
   "id": "fd3546fc-ec43-42e4-988d-c5bb6e73d6e6",
   "metadata": {},
   "outputs": [
    {
     "data": {
      "text/plain": [
       "3"
      ]
     },
     "execution_count": 20,
     "metadata": {},
     "output_type": "execute_result"
    }
   ],
   "source": [
    "a[2]"
   ]
  },
  {
   "cell_type": "code",
   "execution_count": 21,
   "id": "1aedec3b-e62a-46fa-8b27-827b2bbc8613",
   "metadata": {},
   "outputs": [
    {
     "data": {
      "text/plain": [
       "[1, 2, 3]"
      ]
     },
     "execution_count": 21,
     "metadata": {},
     "output_type": "execute_result"
    }
   ],
   "source": [
    "a[0:3]"
   ]
  },
  {
   "cell_type": "code",
   "execution_count": 22,
   "id": "c2609898-7ba5-4945-bacf-8359c02e17c2",
   "metadata": {},
   "outputs": [
    {
     "name": "stdout",
     "output_type": "stream",
     "text": [
      "['Yoyo', 'Momo', 'Yoyo', 'Dodo', 'Bobo', 'Koko', 1, 2, 3, 4, 5, 6]\n"
     ]
    }
   ],
   "source": [
    "student=[\"Yoyo\",\"Momo\",\"Yoyo\",\"Dodo\",\"Bobo\",\"Koko\",1,2,3,4,5,6]\n",
    "print(student)"
   ]
  },
  {
   "cell_type": "code",
   "execution_count": 23,
   "id": "a9043e00-4a1c-442c-bc32-226d1e48242c",
   "metadata": {},
   "outputs": [
    {
     "data": {
      "text/plain": [
       "2"
      ]
     },
     "execution_count": 23,
     "metadata": {},
     "output_type": "execute_result"
    }
   ],
   "source": [
    "student.count('Yoyo')"
   ]
  },
  {
   "cell_type": "code",
   "execution_count": 24,
   "id": "74f3f10c-d63b-4304-b60b-72666a03b7e7",
   "metadata": {},
   "outputs": [
    {
     "data": {
      "text/plain": [
       "1"
      ]
     },
     "execution_count": 24,
     "metadata": {},
     "output_type": "execute_result"
    }
   ],
   "source": [
    "student.index(\"Momo\")"
   ]
  },
  {
   "cell_type": "code",
   "execution_count": 25,
   "id": "8f3df6eb-ae63-4179-8c29-fee6b11d222f",
   "metadata": {},
   "outputs": [],
   "source": [
    "student.insert(2,\"Koko\")#(index,value)"
   ]
  },
  {
   "cell_type": "code",
   "execution_count": 26,
   "id": "fe049718-def9-4b89-90dd-2e96d9c91ce5",
   "metadata": {},
   "outputs": [
    {
     "name": "stdout",
     "output_type": "stream",
     "text": [
      "['Yoyo', 'Momo', 'Koko', 'Yoyo', 'Dodo', 'Bobo', 'Koko', 1, 2, 3, 4, 5, 6]\n"
     ]
    }
   ],
   "source": [
    "print(student)"
   ]
  },
  {
   "cell_type": "code",
   "execution_count": 27,
   "id": "37f10e1c-0fe0-4f62-ba15-b7aecaf5cc52",
   "metadata": {},
   "outputs": [
    {
     "data": {
      "text/plain": [
       "13"
      ]
     },
     "execution_count": 27,
     "metadata": {},
     "output_type": "execute_result"
    }
   ],
   "source": [
    "len(student)"
   ]
  },
  {
   "cell_type": "code",
   "execution_count": 28,
   "id": "20ae72ec-4f1e-4b66-829e-c6dbbd7aaa76",
   "metadata": {},
   "outputs": [
    {
     "data": {
      "text/plain": [
       "6"
      ]
     },
     "execution_count": 28,
     "metadata": {},
     "output_type": "execute_result"
    }
   ],
   "source": [
    "student.pop()#last element ko remove karne ke liye"
   ]
  },
  {
   "cell_type": "code",
   "execution_count": 29,
   "id": "af8201aa-7ef1-45b8-8c64-c1a18f0259ac",
   "metadata": {},
   "outputs": [
    {
     "name": "stdout",
     "output_type": "stream",
     "text": [
      "['Yoyo', 'Momo', 'Koko', 'Yoyo', 'Dodo', 'Bobo', 'Koko', 1, 2, 3, 4, 5]\n"
     ]
    }
   ],
   "source": [
    "print(student)"
   ]
  },
  {
   "cell_type": "code",
   "execution_count": 30,
   "id": "972a6e27-e73c-49bb-9332-91aafb7255b3",
   "metadata": {},
   "outputs": [],
   "source": [
    "student.remove(\"Koko\")#particular entry ko remove karne ke liye"
   ]
  },
  {
   "cell_type": "code",
   "execution_count": 31,
   "id": "15d972b7-ea37-4fbf-a4c5-c2e7592ee231",
   "metadata": {},
   "outputs": [
    {
     "name": "stdout",
     "output_type": "stream",
     "text": [
      "['Yoyo', 'Momo', 'Yoyo', 'Dodo', 'Bobo', 'Koko', 1, 2, 3, 4, 5]\n"
     ]
    }
   ],
   "source": [
    "print(student)"
   ]
  },
  {
   "cell_type": "code",
   "execution_count": 32,
   "id": "f88bbc8c-c68c-48af-a432-28520c3b1fba",
   "metadata": {},
   "outputs": [
    {
     "name": "stdout",
     "output_type": "stream",
     "text": [
      "['Yogita', 'Sam', 'Divya']\n"
     ]
    }
   ],
   "source": [
    "b=[\"Yogita\",\"Sam\",\"Divya\"]\n",
    "print(b)"
   ]
  },
  {
   "cell_type": "code",
   "execution_count": 33,
   "id": "8a189e8b-8dee-47f1-ae75-19e3436feaac",
   "metadata": {},
   "outputs": [],
   "source": [
    "b.sort()#asending or decending order karne ke liye for homogenour list"
   ]
  },
  {
   "cell_type": "code",
   "execution_count": 34,
   "id": "31cfd0ae-8375-4e5f-b2fa-e9deb4cd0819",
   "metadata": {},
   "outputs": [
    {
     "name": "stdout",
     "output_type": "stream",
     "text": [
      "['Divya', 'Sam', 'Yogita']\n"
     ]
    }
   ],
   "source": [
    "print(b)"
   ]
  },
  {
   "cell_type": "code",
   "execution_count": 35,
   "id": "0cb274dd-efec-445e-9d81-007453de5a3b",
   "metadata": {},
   "outputs": [],
   "source": [
    "b.sort(reverse=True)#reverse karne ke liye"
   ]
  },
  {
   "cell_type": "code",
   "execution_count": 36,
   "id": "4c93c821-1e2e-452d-abfa-c4f32574920c",
   "metadata": {},
   "outputs": [
    {
     "data": {
      "text/plain": [
       "['Yogita', 'Sam', 'Divya']"
      ]
     },
     "execution_count": 36,
     "metadata": {},
     "output_type": "execute_result"
    }
   ],
   "source": [
    "b"
   ]
  },
  {
   "cell_type": "code",
   "execution_count": 37,
   "id": "a70753ae-27f0-4f6d-b19e-15961f74fc14",
   "metadata": {},
   "outputs": [],
   "source": [
    "student.append(b)#add as a list"
   ]
  },
  {
   "cell_type": "code",
   "execution_count": 38,
   "id": "84cbbf34-9fdf-4c0a-8ace-ea18d9a4d9e2",
   "metadata": {},
   "outputs": [
    {
     "name": "stdout",
     "output_type": "stream",
     "text": [
      "['Yoyo', 'Momo', 'Yoyo', 'Dodo', 'Bobo', 'Koko', 1, 2, 3, 4, 5, ['Yogita', 'Sam', 'Divya']]\n"
     ]
    }
   ],
   "source": [
    "print(student)"
   ]
  },
  {
   "cell_type": "code",
   "execution_count": 39,
   "id": "423d2d99-43d8-40fb-9178-2498cc969c0f",
   "metadata": {},
   "outputs": [],
   "source": [
    "student.extend(b)#add as individual element"
   ]
  },
  {
   "cell_type": "code",
   "execution_count": 40,
   "id": "fdd1a4e7-8d2e-4a46-bb38-343698f82e3e",
   "metadata": {},
   "outputs": [
    {
     "name": "stdout",
     "output_type": "stream",
     "text": [
      "['Yoyo', 'Momo', 'Yoyo', 'Dodo', 'Bobo', 'Koko', 1, 2, 3, 4, 5, ['Yogita', 'Sam', 'Divya'], 'Yogita', 'Sam', 'Divya']\n"
     ]
    }
   ],
   "source": [
    "print(student)"
   ]
  },
  {
   "cell_type": "code",
   "execution_count": 41,
   "id": "16de5efe-8294-4359-91ea-e5a72bc60449",
   "metadata": {},
   "outputs": [],
   "source": [
    "b.append(\"Shaina\")#one item additon only"
   ]
  },
  {
   "cell_type": "code",
   "execution_count": 42,
   "id": "137a4591-9860-4fe1-b38f-6df0c6a169cf",
   "metadata": {},
   "outputs": [
    {
     "name": "stdout",
     "output_type": "stream",
     "text": [
      "['Yogita', 'Sam', 'Divya', 'Shaina']\n"
     ]
    }
   ],
   "source": [
    "print(b)"
   ]
  },
  {
   "cell_type": "code",
   "execution_count": 88,
   "id": "0ead1ad7-cd96-4534-9a8a-8ca3e460f520",
   "metadata": {},
   "outputs": [],
   "source": [
    "surname=[\"Singh\",\"Thomson\",\"Rana\",\"Hussian\"]"
   ]
  },
  {
   "cell_type": "code",
   "execution_count": 90,
   "id": "2b6c212d-bb58-42df-a61f-bcf0a6647229",
   "metadata": {},
   "outputs": [],
   "source": [
    "b.extend(surname)"
   ]
  },
  {
   "cell_type": "code",
   "execution_count": 92,
   "id": "315eae60-53aa-4531-8413-d6611467493a",
   "metadata": {},
   "outputs": [
    {
     "name": "stdout",
     "output_type": "stream",
     "text": [
      "['Yogita', 'Sam', 'Divya', 'Shaina', 'Singh', 'Thomson', 'Rana', 'Hussian', 'Rao', 'Singh', 'Thomson', 'Rana', 'Hussian']\n"
     ]
    }
   ],
   "source": [
    "print(b)"
   ]
  },
  {
   "cell_type": "code",
   "execution_count": 101,
   "id": "e4d25f1b-4475-48a7-be98-cc383855fe06",
   "metadata": {},
   "outputs": [],
   "source": [
    "fdata=student+b"
   ]
  },
  {
   "cell_type": "code",
   "execution_count": 103,
   "id": "ea34ea5c-7873-4869-b2b1-14cf95128d3e",
   "metadata": {},
   "outputs": [
    {
     "name": "stdout",
     "output_type": "stream",
     "text": [
      "['Yoyo', 'Momo', 'Yoyo', 'Dodo', 'Bobo', 'Koko', 1, 2, 3, 4, 5, ['Yogita', 'Sam', 'Divya', 'Shaina', 'Singh', 'Thomson', 'Rana', 'Hussian', 'Rao', 'Singh', 'Thomson', 'Rana', 'Hussian'], 'Yogita', 'Sam', 'Divya', 'Yogita', 'Sam', 'Divya', 'Shaina', 'Singh', 'Thomson', 'Rana', 'Hussian', 'Rao', 'Singh', 'Thomson', 'Rana', 'Hussian']\n"
     ]
    }
   ],
   "source": [
    "print(fdata)"
   ]
  },
  {
   "cell_type": "code",
   "execution_count": 105,
   "id": "d1ba3e57-9357-4aa0-a59e-8a805fbbfa51",
   "metadata": {},
   "outputs": [
    {
     "data": {
      "text/plain": [
       "['Yoyo',\n",
       " 'Momo',\n",
       " 'Yoyo',\n",
       " 'Dodo',\n",
       " 'Bobo',\n",
       " 'Koko',\n",
       " 1,\n",
       " 2,\n",
       " 3,\n",
       " 4,\n",
       " 5,\n",
       " ['Yogita',\n",
       "  'Sam',\n",
       "  'Divya',\n",
       "  'Shaina',\n",
       "  'Singh',\n",
       "  'Thomson',\n",
       "  'Rana',\n",
       "  'Hussian',\n",
       "  'Rao',\n",
       "  'Singh',\n",
       "  'Thomson',\n",
       "  'Rana',\n",
       "  'Hussian'],\n",
       " 'Yogita',\n",
       " 'Sam',\n",
       " 'Divya']"
      ]
     },
     "execution_count": 105,
     "metadata": {},
     "output_type": "execute_result"
    }
   ],
   "source": [
    "student"
   ]
  },
  {
   "cell_type": "code",
   "execution_count": 107,
   "id": "20aef86b-6eb3-4703-a796-217f9c5ccf0b",
   "metadata": {},
   "outputs": [
    {
     "name": "stdout",
     "output_type": "stream",
     "text": [
      "[1, 2, 3, 4, 5, 6]\n"
     ]
    }
   ],
   "source": [
    "l1=[1,2,3]\n",
    "l2=[4,5,6]\n",
    "l3=l1+l2\n",
    "print(l3)"
   ]
  },
  {
   "cell_type": "code",
   "execution_count": 109,
   "id": "028176b0-838d-4324-a5ea-9c4bdf77f7f3",
   "metadata": {},
   "outputs": [],
   "source": [
    "data_class=[\"Yogita\",\"Divya\",\"Shaina\",\"Aditya\",\"Tanishq\",\"Harsh\"]"
   ]
  },
  {
   "cell_type": "code",
   "execution_count": null,
   "id": "b883957e-0c7d-41dc-8bf6-020b32bb17a1",
   "metadata": {},
   "outputs": [],
   "source": []
  }
 ],
 "metadata": {
  "kernelspec": {
   "display_name": "Python 3 (ipykernel)",
   "language": "python",
   "name": "python3"
  },
  "language_info": {
   "codemirror_mode": {
    "name": "ipython",
    "version": 3
   },
   "file_extension": ".py",
   "mimetype": "text/x-python",
   "name": "python",
   "nbconvert_exporter": "python",
   "pygments_lexer": "ipython3",
   "version": "3.11.5"
  }
 },
 "nbformat": 4,
 "nbformat_minor": 5
}
